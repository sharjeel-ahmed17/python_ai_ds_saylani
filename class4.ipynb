{
  "nbformat": 4,
  "nbformat_minor": 0,
  "metadata": {
    "colab": {
      "provenance": []
    },
    "kernelspec": {
      "name": "python3",
      "display_name": "Python 3"
    },
    "language_info": {
      "name": "python"
    }
  },
  "cells": [
    {
      "cell_type": "markdown",
      "source": [
        "# Loops\n",
        "Loop is the method of programming which is used for the work that you want to repeat again and again.\n",
        "\n",
        "#### 2 type of loops in python\n",
        "\n",
        "\n",
        "*   While Loop\n",
        "*   for loop\n",
        "\n"
      ],
      "metadata": {
        "id": "i04PlwhyD-x5"
      }
    },
    {
      "cell_type": "code",
      "source": [
        "''' Syntax\n",
        "\n",
        "while codition:\n",
        "  code '''"
      ],
      "metadata": {
        "colab": {
          "base_uri": "https://localhost:8080/",
          "height": 36
        },
        "id": "PqYNFqxCDIn7",
        "outputId": "f09b3c80-2458-4ff0-dbec-d2975580524b"
      },
      "execution_count": null,
      "outputs": [
        {
          "output_type": "execute_result",
          "data": {
            "text/plain": [
              "' Syntax\\n\\nwhile codition:\\n  code '"
            ],
            "application/vnd.google.colaboratory.intrinsic+json": {
              "type": "string"
            }
          },
          "metadata": {},
          "execution_count": 8
        }
      ]
    },
    {
      "cell_type": "code",
      "source": [
        "i = 1\n",
        "while i < 6:\n",
        "  print(i)\n",
        "  i += 1"
      ],
      "metadata": {
        "colab": {
          "base_uri": "https://localhost:8080/"
        },
        "id": "tFMDFqTsDIj8",
        "outputId": "7cfe4915-2e8f-4842-a1d0-a80ad4ee8f02"
      },
      "execution_count": null,
      "outputs": [
        {
          "output_type": "stream",
          "name": "stdout",
          "text": [
            "1\n",
            "2\n",
            "3\n",
            "4\n",
            "5\n"
          ]
        }
      ]
    },
    {
      "cell_type": "code",
      "source": [
        "name= \"Abdul Rehman\"\n",
        "i=1\n",
        "while i<=10:\n",
        "  print(name)\n",
        "  i+=1"
      ],
      "metadata": {
        "colab": {
          "base_uri": "https://localhost:8080/"
        },
        "id": "ZET6Q_tIDIfr",
        "outputId": "dcb0e508-1c34-46f5-dbeb-44f74ae3ada6"
      },
      "execution_count": null,
      "outputs": [
        {
          "output_type": "stream",
          "name": "stdout",
          "text": [
            "Abdul Rehman\n",
            "Abdul Rehman\n",
            "Abdul Rehman\n",
            "Abdul Rehman\n",
            "Abdul Rehman\n",
            "Abdul Rehman\n",
            "Abdul Rehman\n",
            "Abdul Rehman\n",
            "Abdul Rehman\n",
            "Abdul Rehman\n"
          ]
        }
      ]
    },
    {
      "cell_type": "code",
      "source": [
        "num=int(input(\"Enter the table: \"))\n",
        "\n",
        "i=1\n",
        "\n",
        "while i<=10:\n",
        "  print(i*num)\n",
        "  i+=1"
      ],
      "metadata": {
        "colab": {
          "base_uri": "https://localhost:8080/"
        },
        "id": "-QJITZU_DIb4",
        "outputId": "985bd049-3323-40d7-c7fe-4004d445ec60"
      },
      "execution_count": null,
      "outputs": [
        {
          "output_type": "stream",
          "name": "stdout",
          "text": [
            "Enter the table: 5\n",
            "5\n",
            "10\n",
            "15\n",
            "20\n",
            "25\n",
            "30\n",
            "35\n",
            "40\n",
            "45\n",
            "50\n"
          ]
        }
      ]
    },
    {
      "cell_type": "code",
      "source": [
        "table=int(input('Enter the Table: '))\n",
        "range=int(input(\"Enter the range: \"))\n",
        "\n",
        "i=1\n",
        "\n",
        "while i<=range:\n",
        "  print(f\"{table} x {i} = {i*table}\")\n",
        "  i+=1"
      ],
      "metadata": {
        "colab": {
          "base_uri": "https://localhost:8080/"
        },
        "id": "dMjm943WDIX9",
        "outputId": "8769025b-2c3a-4293-d5fd-5cc7b2b525fe"
      },
      "execution_count": null,
      "outputs": [
        {
          "output_type": "stream",
          "name": "stdout",
          "text": [
            "Enter the Table: 7\n",
            "Enter the range: 15\n",
            "7 x 1 = 7\n",
            "7 x 2 = 14\n",
            "7 x 3 = 21\n",
            "7 x 4 = 28\n",
            "7 x 5 = 35\n",
            "7 x 6 = 42\n",
            "7 x 7 = 49\n",
            "7 x 8 = 56\n",
            "7 x 9 = 63\n",
            "7 x 10 = 70\n",
            "7 x 11 = 77\n",
            "7 x 12 = 84\n",
            "7 x 13 = 91\n",
            "7 x 14 = 98\n",
            "7 x 15 = 105\n"
          ]
        }
      ]
    },
    {
      "cell_type": "code",
      "source": [
        "# while loop with condition\n",
        "i=1\n",
        "while i<=10:\n",
        "  print(i)\n",
        "  i+=1\n",
        "else:\n",
        "  print(\" i is no longer less than 10\")"
      ],
      "metadata": {
        "colab": {
          "base_uri": "https://localhost:8080/"
        },
        "id": "ye_ufyaHDIT8",
        "outputId": "304940b4-4655-43be-d6f1-1745f1034010"
      },
      "execution_count": null,
      "outputs": [
        {
          "output_type": "stream",
          "name": "stdout",
          "text": [
            "1\n",
            "2\n",
            "3\n",
            "4\n",
            "5\n",
            "6\n",
            "7\n",
            "8\n",
            "9\n",
            "10\n",
            " i is no longer less than 10\n"
          ]
        }
      ]
    },
    {
      "cell_type": "code",
      "source": [
        "# Backward loop\n",
        "i=10\n",
        "while i>=0:\n",
        "  print(i)\n",
        "  i-=1"
      ],
      "metadata": {
        "colab": {
          "base_uri": "https://localhost:8080/"
        },
        "id": "8RiKyeyeDIPn",
        "outputId": "2d0b32d0-5380-4285-f3e0-8ca41dcf072b"
      },
      "execution_count": null,
      "outputs": [
        {
          "output_type": "stream",
          "name": "stdout",
          "text": [
            "10\n",
            "9\n",
            "8\n",
            "7\n",
            "6\n",
            "5\n",
            "4\n",
            "3\n",
            "2\n",
            "1\n",
            "0\n"
          ]
        }
      ]
    },
    {
      "cell_type": "code",
      "source": [
        "#Task for students\n",
        "''' Write a program of table using while loop in backward direction'''"
      ],
      "metadata": {
        "colab": {
          "base_uri": "https://localhost:8080/",
          "height": 35
        },
        "id": "PqYXNkBmDILi",
        "outputId": "b7b05fcb-cc63-4635-ef2d-27a4ba6bfaed"
      },
      "execution_count": null,
      "outputs": [
        {
          "output_type": "execute_result",
          "data": {
            "text/plain": [
              "' Write a program of table using while loop in backward direction'"
            ],
            "application/vnd.google.colaboratory.intrinsic+json": {
              "type": "string"
            }
          },
          "metadata": {},
          "execution_count": 2
        }
      ]
    },
    {
      "cell_type": "markdown",
      "source": [
        "#### While loop with conditions"
      ],
      "metadata": {
        "id": "DdbwmX4r8xaS"
      }
    },
    {
      "cell_type": "code",
      "source": [
        "# Even numbers\n",
        "print(\"Even numbers\")\n",
        "count=0\n",
        "while count<20:\n",
        "    if count%2==0:\n",
        "        print(count)\n",
        "\n",
        "    count+=1"
      ],
      "metadata": {
        "colab": {
          "base_uri": "https://localhost:8080/"
        },
        "id": "ZDi1WIJPDIH4",
        "outputId": "c18faaa6-0483-48ae-c9b3-8481352e4f17"
      },
      "execution_count": null,
      "outputs": [
        {
          "output_type": "stream",
          "name": "stdout",
          "text": [
            "Even numbers\n",
            "0\n",
            "2\n",
            "4\n",
            "6\n",
            "8\n",
            "10\n",
            "12\n",
            "14\n",
            "16\n",
            "18\n"
          ]
        }
      ]
    },
    {
      "cell_type": "code",
      "source": [
        "# Odd numbers\n",
        "print(\"Odd numbers\")\n",
        "count=0\n",
        "while count<20:\n",
        "    if count%2==1:\n",
        "        print(count)\n",
        "    count+=1"
      ],
      "metadata": {
        "colab": {
          "base_uri": "https://localhost:8080/"
        },
        "id": "8_sQvft7DID1",
        "outputId": "addbe55c-65e3-4c25-afb2-6b3ba06b111d"
      },
      "execution_count": null,
      "outputs": [
        {
          "output_type": "stream",
          "name": "stdout",
          "text": [
            "Odd numbers\n",
            "1\n",
            "3\n",
            "5\n",
            "7\n",
            "9\n",
            "11\n",
            "13\n",
            "15\n",
            "17\n",
            "19\n"
          ]
        }
      ]
    },
    {
      "cell_type": "code",
      "source": [
        "# Program for guessing the number\n",
        "\n",
        "import random"
      ],
      "metadata": {
        "id": "DkN-LERJDH-j"
      },
      "execution_count": null,
      "outputs": []
    },
    {
      "cell_type": "code",
      "source": [
        "jackpot=random.randint(1,100)"
      ],
      "metadata": {
        "id": "Tf6B5JvWC4T9"
      },
      "execution_count": null,
      "outputs": []
    },
    {
      "cell_type": "code",
      "source": [
        "guess=int(input(\"Enter the number: \"))\n",
        "counter=1\n",
        "\n",
        "while guess!=jackpot:\n",
        "  if guess<jackpot:\n",
        "    print(\"Guess Higher\")\n",
        "  else:\n",
        "    print(\"Guess Lower\")\n",
        "\n",
        "  guess=int(input(\"Enter the number: \"))\n",
        "  counter+=1\n",
        "\n",
        "print(\"Write Answer\")\n",
        "print(f\"Total Attempt: {counter}\")"
      ],
      "metadata": {
        "colab": {
          "base_uri": "https://localhost:8080/"
        },
        "id": "A2I7Yf1hDuq0",
        "outputId": "3abcaab7-5f2f-4e57-ad8d-d4dca547ab81"
      },
      "execution_count": null,
      "outputs": [
        {
          "output_type": "stream",
          "name": "stdout",
          "text": [
            "Enter the number: 50\n",
            "Guess Lower\n",
            "Enter the number: 30\n",
            "Guess Lower\n",
            "Enter the number: 20\n",
            "Guess Lower\n",
            "Enter the number: 5\n",
            "Guess Higher\n",
            "Enter the number: 10\n",
            "Guess Higher\n",
            "Enter the number: 15\n",
            "Guess Lower\n",
            "Enter the number: 14\n",
            "Guess Lower\n",
            "Enter the number: 11\n",
            "Guess Higher\n",
            "Enter the number: 13\n",
            "Write Answer\n",
            "Total Attempt: 9\n"
          ]
        }
      ]
    },
    {
      "cell_type": "markdown",
      "source": [
        "#For Loop"
      ],
      "metadata": {
        "id": "Q5g6RGQLxHJm"
      }
    },
    {
      "cell_type": "code",
      "source": [
        "#range -------> Built in Function of for loop (0,n-1)\n",
        "range(1,11)"
      ],
      "metadata": {
        "id": "RfnYNI_VFMkS",
        "colab": {
          "base_uri": "https://localhost:8080/"
        },
        "outputId": "3f1165fc-d74c-4b12-a94d-60529f722196"
      },
      "execution_count": null,
      "outputs": [
        {
          "output_type": "execute_result",
          "data": {
            "text/plain": [
              "range(1, 11)"
            ]
          },
          "metadata": {},
          "execution_count": 1
        }
      ]
    },
    {
      "cell_type": "code",
      "source": [
        "list(range(1,11))"
      ],
      "metadata": {
        "colab": {
          "base_uri": "https://localhost:8080/"
        },
        "id": "wQBtgdzGxjHP",
        "outputId": "5b6ca42b-8602-4f31-f357-0236d9d8733d"
      },
      "execution_count": null,
      "outputs": [
        {
          "output_type": "execute_result",
          "data": {
            "text/plain": [
              "[1, 2, 3, 4, 5, 6, 7, 8, 9, 10]"
            ]
          },
          "metadata": {},
          "execution_count": 2
        }
      ]
    },
    {
      "cell_type": "code",
      "source": [
        "list(range(5))"
      ],
      "metadata": {
        "colab": {
          "base_uri": "https://localhost:8080/"
        },
        "id": "-uJv57S-xnBL",
        "outputId": "3042c10f-6d6d-4338-f568-58f2e4a7bd60"
      },
      "execution_count": null,
      "outputs": [
        {
          "output_type": "execute_result",
          "data": {
            "text/plain": [
              "[0, 1, 2, 3, 4]"
            ]
          },
          "metadata": {},
          "execution_count": 3
        }
      ]
    },
    {
      "cell_type": "code",
      "source": [
        "#range(start,stop,step)\n",
        "\n",
        "list(range(1,11,2))"
      ],
      "metadata": {
        "colab": {
          "base_uri": "https://localhost:8080/"
        },
        "id": "LWr6Y1MKxvv9",
        "outputId": "37a4caff-0d79-41c8-ffde-1b8a69369f37"
      },
      "execution_count": null,
      "outputs": [
        {
          "output_type": "execute_result",
          "data": {
            "text/plain": [
              "[1, 3, 5, 7, 9]"
            ]
          },
          "metadata": {},
          "execution_count": 4
        }
      ]
    },
    {
      "cell_type": "code",
      "source": [
        "#Backward\n",
        "list(range(10,0,-1))"
      ],
      "metadata": {
        "colab": {
          "base_uri": "https://localhost:8080/"
        },
        "id": "ESBkfFfiyJzi",
        "outputId": "43c04801-93e4-45b8-84ec-6375cb7f8464"
      },
      "execution_count": null,
      "outputs": [
        {
          "output_type": "execute_result",
          "data": {
            "text/plain": [
              "[10, 9, 8, 7, 6, 5, 4, 3, 2, 1]"
            ]
          },
          "metadata": {},
          "execution_count": 10
        }
      ]
    },
    {
      "cell_type": "code",
      "source": [
        "#for (0,n-1)\n",
        "\n",
        "for i in range(1,10):\n",
        "  print(i)"
      ],
      "metadata": {
        "colab": {
          "base_uri": "https://localhost:8080/"
        },
        "id": "BjuPY6k0zG2t",
        "outputId": "6cfc82fe-d9f4-42db-8caf-29601f5af113"
      },
      "execution_count": null,
      "outputs": [
        {
          "output_type": "stream",
          "name": "stdout",
          "text": [
            "1\n",
            "2\n",
            "3\n",
            "4\n",
            "5\n",
            "6\n",
            "7\n",
            "8\n",
            "9\n"
          ]
        }
      ]
    },
    {
      "cell_type": "code",
      "source": [
        "for i in range(10,0,-1):\n",
        "  print(i)"
      ],
      "metadata": {
        "colab": {
          "base_uri": "https://localhost:8080/"
        },
        "id": "7FkLFtOyzmIZ",
        "outputId": "0b2c34f4-b9a8-46fb-cb60-6835f9e5bf1f"
      },
      "execution_count": null,
      "outputs": [
        {
          "output_type": "stream",
          "name": "stdout",
          "text": [
            "10\n",
            "9\n",
            "8\n",
            "7\n",
            "6\n",
            "5\n",
            "4\n",
            "3\n",
            "2\n",
            "1\n"
          ]
        }
      ]
    },
    {
      "cell_type": "code",
      "source": [
        "#Sequence ------> use for forloop iteration in sequence using membership operator\n",
        "\n",
        "for i in \"Islamabad\":\n",
        "  print(i)"
      ],
      "metadata": {
        "colab": {
          "base_uri": "https://localhost:8080/"
        },
        "id": "91NSv318ybf9",
        "outputId": "33e0a90f-0223-4acb-91e4-0adf06e2bbb3"
      },
      "execution_count": null,
      "outputs": [
        {
          "output_type": "stream",
          "name": "stdout",
          "text": [
            "I\n",
            "s\n",
            "l\n",
            "a\n",
            "m\n",
            "a\n",
            "b\n",
            "a\n",
            "d\n"
          ]
        }
      ]
    },
    {
      "cell_type": "code",
      "source": [
        "\n",
        "for i in \"Islamabad\":\n",
        "  print(i,end=\"\")"
      ],
      "metadata": {
        "colab": {
          "base_uri": "https://localhost:8080/"
        },
        "id": "6RuUsVlYz-Gc",
        "outputId": "512e2983-fc8e-48bb-a893-ea444e9e2212"
      },
      "execution_count": null,
      "outputs": [
        {
          "output_type": "stream",
          "name": "stdout",
          "text": [
            "Islamabad"
          ]
        }
      ]
    },
    {
      "cell_type": "code",
      "source": [
        "for i in range(1,20,2):\n",
        "  print(i)"
      ],
      "metadata": {
        "colab": {
          "base_uri": "https://localhost:8080/"
        },
        "id": "Yxmx1EKH0I-B",
        "outputId": "2b1549ae-1290-4ee5-d498-0f884e369a08"
      },
      "execution_count": null,
      "outputs": [
        {
          "output_type": "stream",
          "name": "stdout",
          "text": [
            "1\n",
            "3\n",
            "5\n",
            "7\n",
            "9\n",
            "11\n",
            "13\n",
            "15\n",
            "17\n",
            "19\n"
          ]
        }
      ]
    },
    {
      "cell_type": "markdown",
      "source": [
        "**Note:** When you know that how timesthe loop continue then use for loop, and if don't know use while loop\n",
        "\n",
        "**Ex:** We make guessing game and use while loop where we don't know how much time the loop run"
      ],
      "metadata": {
        "id": "3O23Ij9q0nUY"
      }
    },
    {
      "cell_type": "markdown",
      "source": [
        "#Break & Continue\n",
        "\n",
        "\n",
        "\n",
        "*   Break -----> Terminate (stop) the loop\n",
        "*   Continue ------> Skip the particular iteration\n",
        "*   Pass ------> the point here you unsure about adding the code you give pass\n",
        "\n"
      ],
      "metadata": {
        "id": "QR48Eg5S47bC"
      }
    },
    {
      "cell_type": "code",
      "source": [
        "#Break\n",
        "for i in range(1,11):\n",
        "  if i==7:\n",
        "    break\n",
        "  print(i)"
      ],
      "metadata": {
        "colab": {
          "base_uri": "https://localhost:8080/"
        },
        "id": "aPI9DwTe0bjC",
        "outputId": "da38989e-98c2-4864-d19b-6354c514f600"
      },
      "execution_count": null,
      "outputs": [
        {
          "output_type": "stream",
          "name": "stdout",
          "text": [
            "1\n",
            "2\n",
            "3\n",
            "4\n",
            "5\n",
            "6\n"
          ]
        }
      ]
    },
    {
      "cell_type": "code",
      "source": [
        "# continue\n",
        "for i in range(1,11):\n",
        "  if i== 6:\n",
        "    continue\n",
        "  print(i)"
      ],
      "metadata": {
        "colab": {
          "base_uri": "https://localhost:8080/"
        },
        "id": "xOdix2Dh5qvn",
        "outputId": "fcd9286b-6320-4513-e219-f6e84304d5b0"
      },
      "execution_count": null,
      "outputs": [
        {
          "output_type": "stream",
          "name": "stdout",
          "text": [
            "1\n",
            "2\n",
            "3\n",
            "4\n",
            "5\n",
            "7\n",
            "8\n",
            "9\n",
            "10\n"
          ]
        }
      ]
    },
    {
      "cell_type": "code",
      "source": [
        "#pass\n",
        "for i in range(1,11):\n",
        "  pass"
      ],
      "metadata": {
        "id": "eOsllQUe6LFa"
      },
      "execution_count": null,
      "outputs": []
    },
    {
      "cell_type": "code",
      "source": [
        "# For loop with if-else\n",
        "for i in range(1,11):\n",
        "  if i%2==0:\n",
        "    print(i)\n"
      ],
      "metadata": {
        "colab": {
          "base_uri": "https://localhost:8080/"
        },
        "id": "O5FIy3im7TRc",
        "outputId": "501190ee-31b4-439f-837d-6b7ae383904b"
      },
      "execution_count": null,
      "outputs": [
        {
          "output_type": "stream",
          "name": "stdout",
          "text": [
            "0\n",
            "2\n",
            "0\n",
            "4\n",
            "0\n",
            "6\n",
            "0\n",
            "8\n",
            "0\n",
            "10\n"
          ]
        }
      ]
    },
    {
      "cell_type": "code",
      "source": [
        "for i in \"Islamabad\":\n",
        "  if i==\"a\":\n",
        "    continue\n",
        "  print(i)"
      ],
      "metadata": {
        "colab": {
          "base_uri": "https://localhost:8080/"
        },
        "id": "5Gbmo42i8VQc",
        "outputId": "8c65a3fc-0b0a-494c-9b9a-df4d8e1e6be4"
      },
      "execution_count": null,
      "outputs": [
        {
          "output_type": "stream",
          "name": "stdout",
          "text": [
            "I\n",
            "s\n",
            "l\n",
            "m\n",
            "b\n",
            "d\n"
          ]
        }
      ]
    },
    {
      "cell_type": "code",
      "source": [
        "for i in range(1,20):\n",
        "  if i%11==0:\n",
        "    print(f\"{i} is multiple of 11\")\n",
        "    break\n",
        "  else:\n",
        "    print(i)"
      ],
      "metadata": {
        "colab": {
          "base_uri": "https://localhost:8080/"
        },
        "id": "wV4WjnqH90vP",
        "outputId": "92234066-a3ef-4b8f-b3f1-0651d0dbcc67"
      },
      "execution_count": null,
      "outputs": [
        {
          "output_type": "stream",
          "name": "stdout",
          "text": [
            "1\n",
            "2\n",
            "3\n",
            "4\n",
            "5\n",
            "6\n",
            "7\n",
            "8\n",
            "9\n",
            "10\n",
            "11 is multiple of 11\n"
          ]
        }
      ]
    },
    {
      "cell_type": "markdown",
      "source": [
        "#Strings\n",
        " Sequence of characters\n",
        "\n",
        " In python specifically, strings are the sequence of unicode characters\n",
        "\n",
        " * Creating Strings\n",
        " * Accessing Strings\n",
        " * Operations On Strings\n",
        " * String Functions"
      ],
      "metadata": {
        "id": "R0VA1plxuHvi"
      }
    },
    {
      "cell_type": "markdown",
      "source": [
        "#### Creating Stings"
      ],
      "metadata": {
        "id": "KBSJ0qyhy-d1"
      }
    },
    {
      "cell_type": "code",
      "source": [
        "name_1='Ameen'\n",
        "name_2=\"Ali\"\n",
        "name_3= \"\"\"Abdullah\"\"\"\n",
        "\n",
        "print(name_1)\n",
        "print(name_2)\n",
        "print(name_3)"
      ],
      "metadata": {
        "id": "03eOvrn6_UZf",
        "colab": {
          "base_uri": "https://localhost:8080/"
        },
        "outputId": "cc0908bc-cffd-4467-cd3a-ce83d5cb6074"
      },
      "execution_count": null,
      "outputs": [
        {
          "output_type": "stream",
          "name": "stdout",
          "text": [
            "Ameen\n",
            "Ali\n",
            "Abdullah\n"
          ]
        }
      ]
    },
    {
      "cell_type": "markdown",
      "source": [
        "####Accessing Strings\n",
        "\n",
        "\n",
        "**Indexing:** concept use to access the string through index\n",
        "\n",
        "\n",
        "*   Positive Indexing -----> Left to Right (Positive)\n",
        "*   Negative Indexing -----> Right to Left (Negative)\n",
        "\n",
        "**Slicing:** Return the string in the given range\n",
        "\n"
      ],
      "metadata": {
        "id": "RV9U3HTZzFUO"
      }
    },
    {
      "cell_type": "code",
      "source": [
        "#Positive:  0  1  2  3  4  5  6  7  8  9  10\n",
        "#           H  e  l  l  o     W  o  r  l  d\n",
        "\n",
        "#Negative: -11 -10 -9 -8 -7 -6 -5 -4 -3 -2  -1\n",
        "#           H   e   l  l  o     W  o  r  l   d\n"
      ],
      "metadata": {
        "id": "Q5_ajLRMbRXT"
      },
      "execution_count": null,
      "outputs": []
    },
    {
      "cell_type": "code",
      "source": [
        "#Indexing\n",
        "\n",
        "# Positive Indexing\n",
        "a='Hello'\n",
        "\n",
        "print(a[0])\n",
        "print(a[1])\n",
        "print(a[2])\n",
        "print(a[3])\n",
        "print(a[4])\n",
        "\n"
      ],
      "metadata": {
        "colab": {
          "base_uri": "https://localhost:8080/"
        },
        "id": "WregnELBwVx2",
        "outputId": "56c03a08-2d4f-4cb1-eac1-41bbd9510cd4"
      },
      "execution_count": null,
      "outputs": [
        {
          "output_type": "stream",
          "name": "stdout",
          "text": [
            "H\n",
            "e\n",
            "l\n",
            "l\n",
            "o\n"
          ]
        }
      ]
    },
    {
      "cell_type": "code",
      "source": [
        "print(a[5])  # index range error"
      ],
      "metadata": {
        "colab": {
          "base_uri": "https://localhost:8080/",
          "height": 141
        },
        "id": "aXUxr6f3NxLG",
        "outputId": "e2708241-2c16-414c-bca2-80421e520961"
      },
      "execution_count": null,
      "outputs": [
        {
          "output_type": "error",
          "ename": "IndexError",
          "evalue": "string index out of range",
          "traceback": [
            "\u001b[0;31m---------------------------------------------------------------------------\u001b[0m",
            "\u001b[0;31mIndexError\u001b[0m                                Traceback (most recent call last)",
            "\u001b[0;32m/tmp/ipython-input-50588944.py\u001b[0m in \u001b[0;36m<cell line: 0>\u001b[0;34m()\u001b[0m\n\u001b[0;32m----> 1\u001b[0;31m \u001b[0mprint\u001b[0m\u001b[0;34m(\u001b[0m\u001b[0ma\u001b[0m\u001b[0;34m[\u001b[0m\u001b[0;36m5\u001b[0m\u001b[0;34m]\u001b[0m\u001b[0;34m)\u001b[0m  \u001b[0;31m# index range error\u001b[0m\u001b[0;34m\u001b[0m\u001b[0;34m\u001b[0m\u001b[0m\n\u001b[0m",
            "\u001b[0;31mIndexError\u001b[0m: string index out of range"
          ]
        }
      ]
    },
    {
      "cell_type": "code",
      "source": [
        "# Negative Indexing\n",
        "\n",
        "print(a[-1])\n",
        "print(a[-2])\n",
        "print(a[-3])\n",
        "print(a[-4])\n",
        "print(a[-5])"
      ],
      "metadata": {
        "colab": {
          "base_uri": "https://localhost:8080/"
        },
        "id": "3UnQQ_BhN7Mj",
        "outputId": "5ee9c55e-3495-48c7-f003-bf77f6da4b46"
      },
      "execution_count": null,
      "outputs": [
        {
          "output_type": "stream",
          "name": "stdout",
          "text": [
            "o\n",
            "l\n",
            "l\n",
            "e\n",
            "H\n"
          ]
        }
      ]
    },
    {
      "cell_type": "code",
      "source": [
        "print(a[-6]) # index range error"
      ],
      "metadata": {
        "colab": {
          "base_uri": "https://localhost:8080/",
          "height": 141
        },
        "id": "BPlAL0WLOHqC",
        "outputId": "0847d988-9bbf-44fa-caf5-77c0e07d7823"
      },
      "execution_count": null,
      "outputs": [
        {
          "output_type": "error",
          "ename": "IndexError",
          "evalue": "string index out of range",
          "traceback": [
            "\u001b[0;31m---------------------------------------------------------------------------\u001b[0m",
            "\u001b[0;31mIndexError\u001b[0m                                Traceback (most recent call last)",
            "\u001b[0;32m/tmp/ipython-input-1180867295.py\u001b[0m in \u001b[0;36m<cell line: 0>\u001b[0;34m()\u001b[0m\n\u001b[0;32m----> 1\u001b[0;31m \u001b[0mprint\u001b[0m\u001b[0;34m(\u001b[0m\u001b[0ma\u001b[0m\u001b[0;34m[\u001b[0m\u001b[0;34m-\u001b[0m\u001b[0;36m6\u001b[0m\u001b[0;34m]\u001b[0m\u001b[0;34m)\u001b[0m\u001b[0;34m\u001b[0m\u001b[0;34m\u001b[0m\u001b[0m\n\u001b[0m",
            "\u001b[0;31mIndexError\u001b[0m: string index out of range"
          ]
        }
      ]
    },
    {
      "cell_type": "code",
      "source": [
        "#Slicing -----> string[start:end:step]\n",
        "\n",
        "#(0,n-1)\n",
        "\n",
        "a= \"Hello World\"\n",
        "\n",
        "#positive\n",
        "print(a[0:7])\n",
        "print(a[2:])\n",
        "print(a[:4])\n",
        "print(a[:])\n",
        "print(a[::2])\n",
        "\n"
      ],
      "metadata": {
        "colab": {
          "base_uri": "https://localhost:8080/"
        },
        "id": "fQcLG52ry05G",
        "outputId": "62c8d1ce-48fa-4661-f543-212cbf0f064f"
      },
      "execution_count": null,
      "outputs": [
        {
          "output_type": "stream",
          "name": "stdout",
          "text": [
            "Hello W\n",
            "llo World\n",
            "Hell\n",
            "Hello World\n",
            "HloWrd\n"
          ]
        }
      ]
    },
    {
      "cell_type": "code",
      "source": [
        "#Negative\n",
        "\n",
        "print(a[-4:-1])\n",
        "print(a[-5:-1:2])\n",
        "print(a[::-1])\n",
        "print(a[-1:-5:-2])"
      ],
      "metadata": {
        "id": "gNu9fTNn7Pb_",
        "colab": {
          "base_uri": "https://localhost:8080/"
        },
        "outputId": "abf0e09d-c77a-4616-e2ff-dbacde3f75e1"
      },
      "execution_count": null,
      "outputs": [
        {
          "output_type": "stream",
          "name": "stdout",
          "text": [
            "orl\n",
            "Wr\n",
            "dlroW olleH\n",
            "dr\n"
          ]
        }
      ]
    },
    {
      "cell_type": "markdown",
      "source": [
        "####Operations On Strings\n",
        "\n",
        "\n",
        "\n",
        "*   Arthematic Oerators\n",
        "*   Comparison Operators\n",
        "*   Logical Operators\n",
        "*   Membership Operators\n",
        "*   Loops On Strings\n",
        "\n"
      ],
      "metadata": {
        "id": "OXjMvl9BIEOd"
      }
    },
    {
      "cell_type": "code",
      "source": [
        "#Arthematic\n",
        "\n",
        "#add\n",
        "print(\"Hello \" + \"World\" ) # For String concatination\n",
        "\n",
        "#Product\n",
        "print(\"*\"*5)      # For repeat strings multiple time\n",
        "print(2*\"Hello\")"
      ],
      "metadata": {
        "id": "FIQ12B5qlluH",
        "colab": {
          "base_uri": "https://localhost:8080/"
        },
        "outputId": "2bc9224c-df7c-4b19-fa1b-f2be10fb533d"
      },
      "execution_count": null,
      "outputs": [
        {
          "output_type": "stream",
          "name": "stdout",
          "text": [
            "Hello World\n",
            "*****\n",
            "HelloHello\n"
          ]
        }
      ]
    },
    {
      "cell_type": "code",
      "source": [
        "#Comparison\n",
        "\n",
        "#Equal-Equal-to\n",
        "print(\"Hello\"==\"Hello\")\n",
        "print(\"Hello\"!=\"hello\")\n",
        "\n",
        "#Not-Equal-to\n",
        "print(\"Hello\"!=\"World\")\n",
        "\n",
        "#Greater-Than & Less Than : Follows Lexiographical comparison -----> dictionary-order based on Unicode (ASCII) code point values of characters.\n",
        "\n",
        "print(\"Hello\"<\"World\")\n",
        "print(\"Hello\">\"World\")\n",
        "print(\"pakistan\">\"India\")\n",
        "print(\"Pak\">\"PAK\")\n",
        "\n",
        "# #Greater-Than-Equal-to & Less-Than-Equal-to :Also Follows exiograhical comparison\n",
        "print(\"Hello\"<=\"World\")\n",
        "print(\"Hello\">=\"World\")\n",
        "print(\"Hello\">\"hello\")\n",
        "print(\"PAK\">=\"PAK\")"
      ],
      "metadata": {
        "colab": {
          "base_uri": "https://localhost:8080/"
        },
        "id": "-qt-Q53cJZGQ",
        "outputId": "18d4d9eb-faba-4c79-de12-4b0b8fe3e7f3"
      },
      "execution_count": 4,
      "outputs": [
        {
          "output_type": "stream",
          "name": "stdout",
          "text": [
            "True\n",
            "True\n",
            "True\n",
            "True\n",
            "False\n",
            "True\n",
            "True\n",
            "True\n",
            "False\n",
            "False\n",
            "True\n"
          ]
        }
      ]
    },
    {
      "cell_type": "markdown",
      "source": [
        "1. Ord() use to find the unicode of the chracter\n",
        "2. chr() use to convert unicode to character"
      ],
      "metadata": {
        "id": "i-yifOdhN7nI"
      }
    },
    {
      "cell_type": "code",
      "source": [
        "# char to uicode\n",
        "print(ord(\"P\"))\n",
        "print(ord(\"W\"))\n",
        "print(ord(\"p\"))\n",
        "print(ord(\"w\"))\n",
        "\n",
        "#unicode to char\n",
        "print(chr(80))\n",
        "\n"
      ],
      "metadata": {
        "colab": {
          "base_uri": "https://localhost:8080/"
        },
        "id": "oDWecH4yNR4p",
        "outputId": "a4969aa0-41c6-4052-bbd0-caddff709c4f"
      },
      "execution_count": null,
      "outputs": [
        {
          "output_type": "stream",
          "name": "stdout",
          "text": [
            "80\n",
            "87\n",
            "112\n",
            "119\n",
            "P\n"
          ]
        }
      ]
    }
  ]
}