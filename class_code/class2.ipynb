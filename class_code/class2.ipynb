{
  "nbformat": 4,
  "nbformat_minor": 0,
  "metadata": {
    "colab": {
      "provenance": []
    },
    "kernelspec": {
      "name": "python3",
      "display_name": "Python 3"
    },
    "language_info": {
      "name": "python"
    }
  },
  "cells": [
    {
      "cell_type": "markdown",
      "source": [
        "# String Formation"
      ],
      "metadata": {
        "id": "ycZ4M2lOTUQX"
      }
    },
    {
      "cell_type": "markdown",
      "source": [
        "When we wnt to add the variable input in string, we use string fromation"
      ],
      "metadata": {
        "id": "O-YKKhRdIBvW"
      }
    },
    {
      "cell_type": "code",
      "source": [
        "name=input(\"Enter your name: \")\n",
        "age=float(input(\"Enter yor age: \"))\n",
        "field=input(\"Enter your field: \")\n",
        "\n",
        "print(\"Dear your name is {} , Your age is {} and your a {}  student\".format(name,age,field))"
      ],
      "metadata": {
        "colab": {
          "base_uri": "https://localhost:8080/"
        },
        "id": "00gxQi6Fvp7s",
        "outputId": "6b174339-035e-4e83-e0a5-c0d631bc67ab"
      },
      "execution_count": null,
      "outputs": [
        {
          "output_type": "stream",
          "name": "stdout",
          "text": [
            "Enter your name: Abdul Rehman\n",
            "Enter yor age: 23\n",
            "Enter your field: Computer Science\n",
            "Dear your name is Abdul Rehman , Your age is 23.0 and your a Computer Science  student\n"
          ]
        }
      ]
    },
    {
      "cell_type": "code",
      "source": [
        "name = input(\"Enter your name: \")\n",
        "\n",
        "print(f\"My name is {name} \")"
      ],
      "metadata": {
        "id": "OF43ql1ITcmH",
        "colab": {
          "base_uri": "https://localhost:8080/"
        },
        "outputId": "9fe9cbe3-eda4-4f3f-ce8a-6220002dd9d8"
      },
      "execution_count": null,
      "outputs": [
        {
          "output_type": "stream",
          "name": "stdout",
          "text": [
            "Enter your name: Muhammad Abdul Rehman\n",
            "My name is Muhammad Abdul Rehman \n"
          ]
        }
      ]
    },
    {
      "cell_type": "code",
      "source": [
        "a=int(input(\"Enter first number: \"))\n",
        "b=int(input(\"Enter second number: \"))\n",
        "\n",
        "print(f\"The sum of {a} and {b} is {a+b}\")"
      ],
      "metadata": {
        "id": "0KSwkwnTTchw",
        "colab": {
          "base_uri": "https://localhost:8080/"
        },
        "outputId": "fa3e5bcf-d507-4ee7-857c-2d6c91792895"
      },
      "execution_count": null,
      "outputs": [
        {
          "output_type": "stream",
          "name": "stdout",
          "text": [
            "Enter first number: 23\n",
            "Enter second number: 23\n",
            "The sum of 23 and 23 is 46\n"
          ]
        }
      ]
    },
    {
      "cell_type": "code",
      "source": [
        "#Perform a math operation in the placeholder\n",
        "\n",
        "txt= f\"Price is {12*12} Dollars\"\n",
        "print(txt)"
      ],
      "metadata": {
        "colab": {
          "base_uri": "https://localhost:8080/"
        },
        "id": "cFEX0S6FI22x",
        "outputId": "07afd13a-e3f8-428b-84fe-2e124f48629a"
      },
      "execution_count": null,
      "outputs": [
        {
          "output_type": "stream",
          "name": "stdout",
          "text": [
            "Price is 144 Dollars\n"
          ]
        }
      ]
    },
    {
      "cell_type": "code",
      "source": [
        "txt= f\"Price is {12/(144*144)}\"\n",
        "print(txt)"
      ],
      "metadata": {
        "colab": {
          "base_uri": "https://localhost:8080/"
        },
        "id": "TUKd0jvMI2yX",
        "outputId": "c291ca32-424c-42f8-fff2-9e17cfa0ad79"
      },
      "execution_count": null,
      "outputs": [
        {
          "output_type": "stream",
          "name": "stdout",
          "text": [
            "Price is 0.0005787037037037037\n"
          ]
        }
      ]
    },
    {
      "cell_type": "markdown",
      "source": [
        "# Type Conversion\n",
        "\n",
        "You can convert from one type to another\n",
        "\n",
        "### 2 Types of type conversion\n",
        "\n",
        "\n",
        "*   Implicit: when python automatically perform type converion.\n",
        "*   Explicit: when Programmer itself perform the type conversion.\n",
        "\n"
      ],
      "metadata": {
        "id": "QMIEdA1w7pya"
      }
    },
    {
      "cell_type": "code",
      "source": [
        "#implicit ----> python automatically convert the data type after addition\n",
        "\n",
        "print(9+9.5) #int & float\n",
        "print(5 + 6+7j)  # int & complex\n",
        "print(2.5+9+5j) #  float & complex"
      ],
      "metadata": {
        "colab": {
          "base_uri": "https://localhost:8080/"
        },
        "id": "ZiULqz6S75Nk",
        "outputId": "3078fb0e-5843-4d8e-8e82-442acdebe2ec"
      },
      "execution_count": null,
      "outputs": [
        {
          "output_type": "stream",
          "name": "stdout",
          "text": [
            "18.5\n",
            "(11+7j)\n",
            "(11.5+5j)\n"
          ]
        }
      ]
    },
    {
      "cell_type": "code",
      "execution_count": null,
      "metadata": {
        "id": "79tTEgca5Un5",
        "colab": {
          "base_uri": "https://localhost:8080/"
        },
        "outputId": "b2738638-426e-40bf-d3a4-25554b983fec"
      },
      "outputs": [
        {
          "output_type": "stream",
          "name": "stdout",
          "text": [
            "7\n",
            "9.0\n",
            "45\n",
            "45\n",
            "6.7\n",
            "6.7\n",
            "False\n",
            "0\n",
            "(5+0j)\n"
          ]
        }
      ],
      "source": [
        " # Explicit ----> Where python can't perform implicit type conversion\n",
        "\n",
        "# float to int\n",
        "print(int(7.8))\n",
        "\n",
        "#int to float\n",
        "print(float(9))\n",
        "\n",
        "# string to int\n",
        "print(int('45'))\n",
        "\n",
        "#int to string\n",
        "print((str(45)))\n",
        "\n",
        "#float to strig\n",
        "print(str(6.7))\n",
        "\n",
        "#string to float\n",
        "print(float('6.7'))\n",
        "\n",
        "#int to bool\n",
        "print(bool(0))\n",
        "\n",
        "#bool to int\n",
        "print(int(False))\n",
        "\n",
        "#int to complex\n",
        "print(complex(5))\n",
        "\n"
      ]
    },
    {
      "cell_type": "markdown",
      "source": [
        "**Note:** You cannot convert complex numbers into another number type."
      ],
      "metadata": {
        "id": "8rkGhdetKLbF"
      }
    },
    {
      "cell_type": "code",
      "source": [
        "# Not convertable\n",
        "\n",
        "print(int('Karachi'))\n",
        "print(float('Karachi'))\n",
        "print(complex('Karachi'))\n"
      ],
      "metadata": {
        "colab": {
          "base_uri": "https://localhost:8080/",
          "height": 211
        },
        "id": "blb-WYnW-4A9",
        "outputId": "643ce97d-df1e-4819-c569-cd5111a31e1a"
      },
      "execution_count": null,
      "outputs": [
        {
          "output_type": "error",
          "ename": "ValueError",
          "evalue": "invalid literal for int() with base 10: 'Karachi'",
          "traceback": [
            "\u001b[0;31m---------------------------------------------------------------------------\u001b[0m",
            "\u001b[0;31mValueError\u001b[0m                                Traceback (most recent call last)",
            "\u001b[0;32m/tmp/ipython-input-3001575685.py\u001b[0m in \u001b[0;36m<cell line: 0>\u001b[0;34m()\u001b[0m\n\u001b[1;32m      1\u001b[0m \u001b[0;31m# Not convertable\u001b[0m\u001b[0;34m\u001b[0m\u001b[0;34m\u001b[0m\u001b[0m\n\u001b[1;32m      2\u001b[0m \u001b[0;34m\u001b[0m\u001b[0m\n\u001b[0;32m----> 3\u001b[0;31m \u001b[0mprint\u001b[0m\u001b[0;34m(\u001b[0m\u001b[0mint\u001b[0m\u001b[0;34m(\u001b[0m\u001b[0;34m'Karachi'\u001b[0m\u001b[0;34m)\u001b[0m\u001b[0;34m)\u001b[0m\u001b[0;34m\u001b[0m\u001b[0;34m\u001b[0m\u001b[0m\n\u001b[0m\u001b[1;32m      4\u001b[0m \u001b[0mprint\u001b[0m\u001b[0;34m(\u001b[0m\u001b[0mfloat\u001b[0m\u001b[0;34m(\u001b[0m\u001b[0;34m'Karachi'\u001b[0m\u001b[0;34m)\u001b[0m\u001b[0;34m)\u001b[0m\u001b[0;34m\u001b[0m\u001b[0;34m\u001b[0m\u001b[0m\n\u001b[1;32m      5\u001b[0m \u001b[0mprint\u001b[0m\u001b[0;34m(\u001b[0m\u001b[0mcomplex\u001b[0m\u001b[0;34m(\u001b[0m\u001b[0;34m'Karachi'\u001b[0m\u001b[0;34m)\u001b[0m\u001b[0;34m)\u001b[0m\u001b[0;34m\u001b[0m\u001b[0;34m\u001b[0m\u001b[0m\n",
            "\u001b[0;31mValueError\u001b[0m: invalid literal for int() with base 10: 'Karachi'"
          ]
        }
      ]
    },
    {
      "cell_type": "markdown",
      "source": [
        "#Literals\n",
        "Raw Data given in a variable\n",
        "\n",
        "###4 types of literals\n",
        "\n",
        "\n",
        "*   Numeric\n",
        "*   String\n",
        "*   Boolean\n",
        "*   Special\n",
        "\n"
      ],
      "metadata": {
        "id": "OpXJ_nKAL4Xf"
      }
    },
    {
      "cell_type": "markdown",
      "source": [
        "####1. Numeric Literals"
      ],
      "metadata": {
        "id": "njZ3eqnkOBX3"
      }
    },
    {
      "cell_type": "code",
      "source": [
        "a= 0b1010 #binary literals\n",
        "b= 100 #decimal literals\n",
        "c= 0o310 #octa literals\n",
        "d= 0x12c #Hexa literals\n",
        "\n",
        "#float literals\n",
        "float_1= 100.5\n",
        "float_2= 1.5e2\n",
        "float_3= 4.6e-3\n",
        "\n",
        "#complex literals\n",
        "x= 2.4j\n",
        "\n",
        "print(a,b,c,d)\n",
        "print(float_1,float_2,float_3)\n",
        "print(x, x.real,x.imag)"
      ],
      "metadata": {
        "colab": {
          "base_uri": "https://localhost:8080/"
        },
        "id": "CeI3K_IQL35A",
        "outputId": "235260a6-cc04-4450-e044-eb0af692c610"
      },
      "execution_count": null,
      "outputs": [
        {
          "output_type": "stream",
          "name": "stdout",
          "text": [
            "10 100 200 300\n",
            "100.5 150.0 0.0046\n",
            "2.4j 0.0 2.4\n"
          ]
        }
      ]
    },
    {
      "cell_type": "markdown",
      "source": [
        "####String Literals"
      ],
      "metadata": {
        "id": "01o9NRSGOGfJ"
      }
    },
    {
      "cell_type": "code",
      "source": [
        "string='I am Abdullah'\n",
        "strings=\"I am 20 years old\"\n",
        "single_char=\"C\"\n",
        "multiline_str=\"\"\"This is multi line string with more than one line code.\"\"\" # for multiline string\n",
        "unicode_str=u\"\\U0001f600\" # Universally contains every type of unicode of char, labels,emojis etc....\n",
        "raw_str=r\"raw \\n string\" # Use when want to write html in python\n",
        "\n",
        "print(string)\n",
        "print(strings)\n",
        "print(single_char)\n",
        "print(multiline_str)\n",
        "print(unicode_str)\n",
        "print(raw_str)"
      ],
      "metadata": {
        "colab": {
          "base_uri": "https://localhost:8080/"
        },
        "id": "LhVMiS64Eoqu",
        "outputId": "2e7c86f2-d8f6-4a04-9dcb-efc0b6e43861"
      },
      "execution_count": null,
      "outputs": [
        {
          "output_type": "stream",
          "name": "stdout",
          "text": [
            "I am Abdullah\n",
            "I am 20 years old\n",
            "C\n",
            "This is multi line string with more than one line code.\n",
            "😀\n",
            "raw \\n string\n"
          ]
        }
      ]
    },
    {
      "cell_type": "markdown",
      "source": [
        "####3. Boolean Literals"
      ],
      "metadata": {
        "id": "5NYTJgTyRJyx"
      }
    },
    {
      "cell_type": "code",
      "source": [
        "#implicit type conversion\n",
        "a=True+9\n",
        "b=False+4\n",
        "\n",
        "print(a,b)"
      ],
      "metadata": {
        "colab": {
          "base_uri": "https://localhost:8080/"
        },
        "id": "q_JxEt2BQGrP",
        "outputId": "5ddcacef-feec-4ecd-a744-f947ee549c88"
      },
      "execution_count": null,
      "outputs": [
        {
          "output_type": "stream",
          "name": "stdout",
          "text": [
            "10 4\n"
          ]
        }
      ]
    },
    {
      "cell_type": "markdown",
      "source": [
        "####4. Special Literal"
      ],
      "metadata": {
        "id": "eZ37WMXNTLdK"
      }
    },
    {
      "cell_type": "code",
      "source": [
        "# there is no variable declaration mechnism in python . So as safe side for diclaration of variabe for any purpose we can use None which defines the emptiness of variable\n",
        "# we can use zero as place of none but it makes some mistake or blender in logic.\n",
        "a=None\n",
        "print(a)"
      ],
      "metadata": {
        "colab": {
          "base_uri": "https://localhost:8080/"
        },
        "id": "d06E_mcnRbya",
        "outputId": "643d19ca-b312-4dc8-d55e-622b1a505a64"
      },
      "execution_count": null,
      "outputs": [
        {
          "output_type": "stream",
          "name": "stdout",
          "text": [
            "None\n"
          ]
        }
      ]
    },
    {
      "cell_type": "markdown",
      "source": [
        "# Operators\n",
        "Operators are use to perform oerations on variables and values.Python has following operators\n",
        "\n",
        "*   Arthmatic Operators\n",
        "*   Comparison Operators\n",
        "*   Logical Opertors  \n",
        "*   Assignment Operator\n",
        "*   Identity Operators\n",
        "*   Membership Operators\n",
        "\n"
      ],
      "metadata": {
        "id": "UOnIy1n1SSLe"
      }
    },
    {
      "cell_type": "code",
      "source": [
        "# Arthmatic Operators\n",
        "\n",
        "x=7\n",
        "y=2\n",
        "\n",
        "#addition\n",
        "print(x+y)\n",
        "\n",
        "#subtration\n",
        "print(x-y)\n",
        "\n",
        "#multiplication\n",
        "print(x*y)\n",
        "\n",
        "#division\n",
        "print(x/y)   #output in float by default\n",
        "\n",
        "#percent\n",
        "print(x%y)    #modulus\n",
        "\n",
        "#floor division\n",
        "print(x//y)      #integer division\n",
        "\n",
        "#exponent\n",
        "print(x**y)     #power"
      ],
      "metadata": {
        "id": "HSsS4JOIRyQ9",
        "colab": {
          "base_uri": "https://localhost:8080/"
        },
        "outputId": "9426a3de-6dff-4480-c681-c1919871df0a"
      },
      "execution_count": null,
      "outputs": [
        {
          "output_type": "stream",
          "name": "stdout",
          "text": [
            "9\n",
            "5\n",
            "14\n",
            "3.5\n",
            "1\n",
            "3\n",
            "49\n"
          ]
        }
      ]
    },
    {
      "cell_type": "code",
      "source": [
        "# Comparison Operators\n",
        "x=15\n",
        "y=10\n",
        "\n",
        "#greatr than , Less then\n",
        "print(x>y)\n",
        "print(x<y)\n",
        "\n",
        "# greater than or equal to , less than or equal to\n",
        "print(x>=y)\n",
        "print(x<=y)\n",
        "\n",
        "# Equal Equal to, Not Equal to\n",
        "print(x==y)\n",
        "print(x!=y)\n"
      ],
      "metadata": {
        "colab": {
          "base_uri": "https://localhost:8080/"
        },
        "id": "4-Mpy1pjUQNo",
        "outputId": "ee9bedbc-de22-40b3-82c1-096f3bd269ab"
      },
      "execution_count": null,
      "outputs": [
        {
          "output_type": "stream",
          "name": "stdout",
          "text": [
            "True\n",
            "False\n",
            "True\n",
            "False\n",
            "False\n",
            "True\n"
          ]
        }
      ]
    },
    {
      "cell_type": "code",
      "source": [
        "# Logicl Operators\n",
        "x=True\n",
        "y=False\n",
        "\n",
        "# And operator\n",
        "print(x and y)  # True, Flase = False\n",
        "\n",
        "# Or operator\n",
        "print(x or y) # True, False =True\n",
        "\n",
        "# Not operator\n",
        "print(not x)\n",
        "\n",
        "\n",
        "a=12\n",
        "b=13\n",
        "c=14\n",
        "\n",
        "print(a<=b and c>=b)\n",
        "\n",
        "print(a>=b or c<=b)"
      ],
      "metadata": {
        "colab": {
          "base_uri": "https://localhost:8080/"
        },
        "id": "lFg5UZYOWHe_",
        "outputId": "c919ead7-4d02-45b1-84e3-185c0bc6525d"
      },
      "execution_count": null,
      "outputs": [
        {
          "output_type": "stream",
          "name": "stdout",
          "text": [
            "False\n",
            "True\n",
            "False\n",
            "True\n",
            "False\n"
          ]
        }
      ]
    },
    {
      "cell_type": "code",
      "source": [
        "# Assignment Operators\n",
        "\n",
        "a=3\n",
        "print(a)\n",
        "\n",
        "a+=1\n",
        "print(a)  #a=a+3\n",
        "\n",
        "a-=1\n",
        "print(a)\n",
        "\n",
        "a*=2\n",
        "print(a)\n",
        "\n",
        "a/=2\n",
        "print(a)\n",
        "\n",
        "a%=2\n",
        "print(a)\n",
        "\n",
        "a//=2\n",
        "print(a)\n",
        "\n",
        "a**=2\n",
        "print(a)"
      ],
      "metadata": {
        "colab": {
          "base_uri": "https://localhost:8080/"
        },
        "id": "9g04neftX50V",
        "outputId": "647a4fb8-7a84-4879-8078-4b05d011f159"
      },
      "execution_count": null,
      "outputs": [
        {
          "output_type": "stream",
          "name": "stdout",
          "text": [
            "3\n",
            "4\n",
            "3\n",
            "6\n",
            "3.0\n",
            "1.0\n",
            "0.0\n",
            "0.0\n"
          ]
        }
      ]
    }
  ]
}