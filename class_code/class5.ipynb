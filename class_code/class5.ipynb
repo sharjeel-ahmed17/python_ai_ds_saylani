{
  "nbformat": 4,
  "nbformat_minor": 0,
  "metadata": {
    "colab": {
      "provenance": []
    },
    "kernelspec": {
      "name": "python3",
      "display_name": "Python 3"
    },
    "language_info": {
      "name": "python"
    }
  },
  "cells": [
    {
      "cell_type": "markdown",
      "source": [
        "### Operations On string"
      ],
      "metadata": {
        "id": "R_I4_GpKft6L"
      }
    },
    {
      "cell_type": "code",
      "source": [
        "# for loop on string\n",
        "\n",
        "name=\"Abdul Rehman\"\n",
        "\n",
        "for i in name:\n",
        "  print(i)"
      ],
      "metadata": {
        "colab": {
          "base_uri": "https://localhost:8080/"
        },
        "id": "3DmZjmc1dsAO",
        "outputId": "bc03e083-ec93-480f-f54c-b68164557941"
      },
      "execution_count": null,
      "outputs": [
        {
          "output_type": "stream",
          "name": "stdout",
          "text": [
            "A\n",
            "b\n",
            "d\n",
            "u\n",
            "l\n",
            " \n",
            "R\n",
            "e\n",
            "h\n",
            "m\n",
            "a\n",
            "n\n"
          ]
        }
      ]
    },
    {
      "cell_type": "code",
      "source": [
        "name=\"Abdul Rehman\"\n",
        "\n",
        "for i in name[2:]:\n",
        "  print(i)"
      ],
      "metadata": {
        "colab": {
          "base_uri": "https://localhost:8080/"
        },
        "id": "dpArFs4Df81M",
        "outputId": "d1a98632-bf7b-4d3a-90ef-3156324e0cbe"
      },
      "execution_count": null,
      "outputs": [
        {
          "output_type": "stream",
          "name": "stdout",
          "text": [
            "d\n",
            "u\n",
            "l\n",
            " \n",
            "R\n",
            "e\n",
            "h\n",
            "m\n",
            "a\n",
            "n\n"
          ]
        }
      ]
    },
    {
      "cell_type": "code",
      "source": [
        "name=\"Abdul Rehman\"\n",
        "\n",
        "for i in name[2::2]:\n",
        "  print(i)"
      ],
      "metadata": {
        "colab": {
          "base_uri": "https://localhost:8080/"
        },
        "id": "cscRYO96f8pg",
        "outputId": "083903ea-6312-4815-e769-10546617d0bd"
      },
      "execution_count": null,
      "outputs": [
        {
          "output_type": "stream",
          "name": "stdout",
          "text": [
            "d\n",
            "l\n",
            "R\n",
            "h\n",
            "a\n"
          ]
        }
      ]
    },
    {
      "cell_type": "code",
      "source": [
        "name=\"Abdul Rehman\"\n",
        "\n",
        "i=0\n",
        "while i<len(name):\n",
        "  print(name[i])\n",
        "  i+=1"
      ],
      "metadata": {
        "id": "mcqu5D28f8j7",
        "colab": {
          "base_uri": "https://localhost:8080/"
        },
        "outputId": "778c31d3-1796-4761-c1aa-244ab32c914c"
      },
      "execution_count": 3,
      "outputs": [
        {
          "output_type": "stream",
          "name": "stdout",
          "text": [
            "A\n",
            "b\n",
            "d\n",
            "u\n",
            "l\n",
            " \n",
            "R\n",
            "e\n",
            "h\n",
            "m\n",
            "a\n",
            "n\n"
          ]
        }
      ]
    },
    {
      "cell_type": "code",
      "source": [
        "# String Functions\n",
        "\n",
        "#len\n",
        "print(len('Karachi'))\n",
        "\n",
        "#max\n",
        "print(max('karachi'))  # follows laxious (ascii) (unicodeorder)\n",
        "print(max('12345'))\n",
        "\n",
        "#min\n",
        "print(min('karachi')) # follows unicode order\n",
        "print(min('12345'))\n",
        "\n",
        "#sort ----> Sort the values in list data type implicitly\n",
        "print(sorted('karachi'))\n",
        "print(sorted('86532'))\n",
        "print(sorted('86532',reverse=True))\n",
        "\n",
        "\n",
        "\n",
        "string=\"Abdul Rehman\"\n",
        "\n",
        "#capitalize / upper / lower/ title / swapcase\n",
        "print(string.capitalize())\n",
        "print(string.upper())\n",
        "print(string.lower())\n",
        "print(string.title())\n",
        "print(string.swapcase())\n",
        "\n",
        "\n",
        "#count\n",
        "print(string.count(\"a\"))\n",
        "print(string.count(\"man\"))\n",
        "print(string.count(\"x\")) # output(0) ----> if given string not present\n",
        "\n",
        "#find / index\n",
        "\n",
        "#find ---> give the position of the string\n",
        "print(string.find(\"a\"))\n",
        "print(string.find(\"man\"))\n",
        "print(string.find(\"x\"))   # output(-1) ---> if given string is not present\n",
        "\n",
        "#index ----> Return the output of index\n",
        "print(string.index(\"a\"))\n",
        "print(string.index(\"man\"))\n",
        "# print(string.index(\"x\"))  # output(error) ---> if given string is not present\n",
        "\n",
        "# endswith / startswith\n",
        "print(string.endswith(\"man\"))\n",
        "print(string.startswith(\"a\"))\n",
        "\n",
        "#format\n",
        "print(\"My name is {} and my age is {}\".format(\"Abdul Rehman\",20))\n",
        "print(\"My name is {1} and my age is {0}\".format(\"Abdul Rehman\",20))  #position based formation\n",
        "print(\"My name is {name} and my age is {age}\".format(age=20,name=\"Abdul Rehman\")) # variable based formation\n",
        "\n",
        "# isalpha / isdecimal / isdigit / isalnum\n",
        "print(\"Abdul\".isalpha())\n",
        "print('7f'.isalnum())\n",
        "print('123'.isdecimal())\n",
        "print('20'.isdigit())\n",
        "\n",
        "\n",
        "#split\n",
        "print(string.split())  #convert words to list\n",
        "print(string.split('a')) # split on any substring\n",
        "\n",
        "#join\n",
        "print(\" \".join(['Abdul', 'Rehman']))\n",
        "print(\"-\".join(['Abdul', 'Rehman']))\n",
        "\n",
        "#replace\n",
        "print(string.replace(\"Abdul\",\"Ali\"))\n",
        "\n",
        "#strip\n",
        "name=\"     Abdul Rehman       \"\n",
        "print(name.strip())"
      ],
      "metadata": {
        "id": "6naOFg7tf8d5",
        "colab": {
          "base_uri": "https://localhost:8080/"
        },
        "outputId": "3f416835-3a34-41a8-f313-3c383fb7404a"
      },
      "execution_count": 5,
      "outputs": [
        {
          "output_type": "stream",
          "name": "stdout",
          "text": [
            "7\n",
            "r\n",
            "5\n",
            "a\n",
            "1\n",
            "['a', 'a', 'c', 'h', 'i', 'k', 'r']\n",
            "['2', '3', '5', '6', '8']\n",
            "['8', '6', '5', '3', '2']\n",
            "Abdul rehman\n",
            "ABDUL REHMAN\n",
            "abdul rehman\n",
            "Abdul Rehman\n",
            "aBDUL rEHMAN\n",
            "1\n",
            "1\n",
            "0\n",
            "10\n",
            "9\n",
            "-1\n",
            "10\n",
            "9\n",
            "True\n",
            "False\n",
            "My name is Abdul Rehman and my age is 20\n",
            "My name is 20 and my age is Abdul Rehman\n",
            "My name is Abdul Rehman and my age is 20\n",
            "True\n",
            "True\n",
            "True\n",
            "True\n",
            "['Abdul', 'Rehman']\n",
            "['Abdul Rehm', 'n']\n",
            "Abdul Rehman\n",
            "Abdul-Rehman\n",
            "Ali Rehman\n",
            "Abdul Rehman\n"
          ]
        }
      ]
    },
    {
      "cell_type": "markdown",
      "source": [
        "#Mutable & Immutable Data types:\n",
        "\n",
        "**Mutable:** Data types that can change, edit or delete\n",
        "1.   list\n",
        "2.   dict\n",
        "3.   set\n",
        "\n",
        "**Immutable:** Data types that can't change, edit or delete\n",
        "1. int\n",
        "2. float\n",
        "3. string (str)\n",
        "4. tuple\n",
        "\n"
      ],
      "metadata": {
        "id": "mkEnq_rSZPWO"
      }
    },
    {
      "cell_type": "markdown",
      "source": [
        "#List\n",
        "It is the data type in which you can store multiple types of data type values.\n",
        "\n",
        "**List Vs Array**\n",
        "1. Array is homogenous(must contain same data-type values) but list is hetrogenous(can contain different data-type values).\n",
        "2. Array store values on continuous memory location(store value one after one) but list store values on dis-continuous memory locations.\n",
        "3. Arrays are much faster than list because of the continuous value storation in memory.\n",
        "\n",
        "\n"
      ],
      "metadata": {
        "id": "oy1Gq8-966m8"
      }
    },
    {
      "cell_type": "code",
      "source": [
        "# syntax:List[element1,element2,..........element n]\n",
        "\n",
        "students=[\"asad\",\"fawad\",\"mehmmod\",\"aleem\",\"abdul rehman\",\"ishaq\",\"ameen\",\"umer\",\"ali\"]\n",
        "#+ve index  0       1         2        3         4           5       6       7      8\n",
        "#-ve index -9      -8        -7       -6        -5          -4      -3      -2     -1\n",
        "\n",
        "print(students)"
      ],
      "metadata": {
        "colab": {
          "base_uri": "https://localhost:8080/"
        },
        "id": "iRvcxrwFJowk",
        "outputId": "74c463d8-30e2-4402-dfda-acab8cc97bfe"
      },
      "execution_count": null,
      "outputs": [
        {
          "output_type": "stream",
          "name": "stdout",
          "text": [
            "['asad', 'fawad', 'mehmmod', 'aleem', 'abdul rehman', 'ishaq', 'ameen', 'umer', 'ali']\n"
          ]
        }
      ]
    },
    {
      "cell_type": "code",
      "source": [
        "# code to check the array and list momory store location  ------> just for understanding\n",
        "\n",
        "import array\n",
        "import ctypes\n",
        "\n",
        "# 1️⃣ Python array (continuous memory)\n",
        "arr = array.array('i', [10, 20, 30, 40])\n",
        "print(\"Array values:\", arr)\n",
        "print(\"Array memory addresses:\")\n",
        "base_address = arr.buffer_info()[0]\n",
        "size = arr.itemsize\n",
        "for i in range(len(arr)):\n",
        "    print(f\"Index {i}: Address = {base_address + i * size}\")\n",
        "\n",
        "print(\"\\n---\\n\")\n",
        "\n",
        "# 2️⃣ Python list (dis-continuous memory)\n",
        "lst = [10, 20, 30, 40]\n",
        "print(\"List values:\", lst)\n",
        "print(\"List memory addresses (object references):\")\n",
        "for i in range(len(lst)):\n",
        "    print(f\"Index {i}: Address of element object = {id(lst[i])}\")\n"
      ],
      "metadata": {
        "colab": {
          "base_uri": "https://localhost:8080/"
        },
        "id": "yM1-lUO2652I",
        "outputId": "3644dc57-4dfb-463d-b44f-46ed4fc6f640"
      },
      "execution_count": null,
      "outputs": [
        {
          "output_type": "stream",
          "name": "stdout",
          "text": [
            "Array values: array('i', [10, 20, 30, 40])\n",
            "Array memory addresses:\n",
            "Index 0: Address = 135092457605040\n",
            "Index 1: Address = 135092457605044\n",
            "Index 2: Address = 135092457605048\n",
            "Index 3: Address = 135092457605052\n",
            "\n",
            "---\n",
            "\n",
            "List values: [10, 20, 30, 40]\n",
            "List memory addresses (object references):\n",
            "Index 0: Address of element object = 10758024\n",
            "Index 1: Address of element object = 10758344\n",
            "Index 2: Address of element object = 10758664\n",
            "Index 3: Address of element object = 10758984\n"
          ]
        }
      ]
    },
    {
      "cell_type": "markdown",
      "source": [
        "#### Topics\n",
        "*   Create\n",
        "*   Access\n",
        "*   Edit\n",
        "*   Add\n",
        "*   Delete\n",
        "*   Operations\n",
        "*   Functions\n",
        "\n"
      ],
      "metadata": {
        "id": "GVMPmDjWJ7zb"
      }
    },
    {
      "cell_type": "code",
      "execution_count": null,
      "metadata": {
        "colab": {
          "base_uri": "https://localhost:8080/"
        },
        "id": "X6SvmsOu6hMI",
        "outputId": "be1642d2-462b-491f-9af2-a7ca745746d2"
      },
      "outputs": [
        {
          "output_type": "stream",
          "name": "stdout",
          "text": [
            "[] [10, 20, 30, 40, 50, 60] ['abdullah', 10, 20.7, True, (5+6j)]\n",
            "[1, 2, 3, [4, 5]] [1, 2, 3, [4, 5, 6, [7, 8, 9]]] [] ['A', 'B', 'D', 'U', 'L', 'L', 'A', 'H']\n"
          ]
        }
      ],
      "source": [
        "# Create List\n",
        "\n",
        "a=[] #empty list\n",
        "b=[10,20,30,40,50,60] #homogenous list\n",
        "c=['abdullah',10,20.7,True, (5+6j)]  #Hetrogenous list\n",
        "\n",
        "#multidimensional list\n",
        "d=[1,2,3,[4,5]]           #2D\n",
        "e=[1,2,3,[4,5,6,[7,8,9]]] #3D\n",
        "\n",
        "#List with type conversion\n",
        "f=list()\n",
        "g=list('ABDULLAH')\n",
        "\n",
        "\n",
        "print(a,b,c,end='\\n')\n",
        "print(d,e,f,g)\n",
        "\n",
        "\n",
        "\n"
      ]
    },
    {
      "cell_type": "code",
      "source": [
        "#Access (Inexing & Slicing) ----> same as string\n",
        "\n",
        "l=[1,2,3,4,5,6]\n",
        "\n",
        "#indexing\n",
        "print(l[3])\n",
        "print(l[-2])\n",
        "\n",
        "#slicing\n",
        "print(l[0:3])\n",
        "print(l[-4:-2])\n",
        "print(l[-5:-2:2])\n",
        "print(l[::-1])\n",
        "\n",
        "\n",
        "#Mlutidimensional list\n",
        "\n",
        "x=[1,2,3,[4,5]]\n",
        "\n",
        "#indexing\n",
        "print(x[3][0])\n",
        "print(x[-1][-1])\n",
        "\n"
      ],
      "metadata": {
        "colab": {
          "base_uri": "https://localhost:8080/"
        },
        "id": "yywguAAREXs6",
        "outputId": "92b6a2a2-afeb-4bfb-8b19-8e5a9351d2ba"
      },
      "execution_count": null,
      "outputs": [
        {
          "output_type": "stream",
          "name": "stdout",
          "text": [
            "4\n",
            "5\n",
            "[1, 2, 3]\n",
            "[3, 4]\n",
            "[2, 4]\n",
            "[6, 5, 4, 3, 2, 1]\n",
            "4\n",
            "5\n"
          ]
        }
      ]
    },
    {
      "cell_type": "code",
      "source": [
        "#Edit list items ---> list is mutable in python (can edit the items of list)\n",
        "\n",
        "\n",
        "l=[1,2,3,4,5,6,7,8,9]\n",
        "\n",
        "#editing with indexing\n",
        "l[0]=0\n",
        "print(l)\n",
        "\n",
        "l[-3]=100\n",
        "print(l)\n",
        "\n",
        "# editing with slicing\n",
        "l[2:5]=[200,300,400,500]\n",
        "print(l)\n",
        "\n",
        "l[-3:-5]=[30,20,10]\n",
        "print(l)"
      ],
      "metadata": {
        "id": "TRA_UZtUHxoc",
        "colab": {
          "base_uri": "https://localhost:8080/"
        },
        "outputId": "a547b402-4b20-4806-e7c2-d97b70f5342c"
      },
      "execution_count": null,
      "outputs": [
        {
          "output_type": "stream",
          "name": "stdout",
          "text": [
            "[0, 2, 3, 4, 5, 6, 7, 8, 9]\n",
            "[0, 2, 3, 4, 5, 6, 100, 8, 9]\n",
            "[0, 2, 200, 300, 400, 500, 6, 100, 8, 9]\n",
            "[0, 2, 200, 300, 400, 500, 6, 30, 20, 10, 100, 8, 9]\n"
          ]
        }
      ]
    },
    {
      "cell_type": "code",
      "source": [
        "# Add items in list ----> Methods(append, extend, insert)\n",
        "\n",
        "l=[1,2,3,4,5,6,7,8,9]\n",
        "\n",
        "#append ---> add item in the last of the list\n",
        "l.append(\"Hello\")\n",
        "print(l)\n",
        "l.append([5,6])\n",
        "print(l)\n",
        "\n",
        "#extend ---> can add one or more than one items in the last of the list\n",
        "l.extend('Abdullah')\n",
        "print(l)\n",
        "l.extend(['Abdul Rehman'])\n",
        "print(l)\n",
        "l.extend(['world',5.7,True])\n",
        "print(l)\n",
        "\n",
        "#insert ----> add the item in the list as your given index\n",
        "l.insert(3,'Ali')\n",
        "print(l)"
      ],
      "metadata": {
        "colab": {
          "base_uri": "https://localhost:8080/"
        },
        "id": "nJyZX_YRKUoZ",
        "outputId": "eb261c8f-5fcb-483b-bfd9-66811f037385"
      },
      "execution_count": null,
      "outputs": [
        {
          "output_type": "stream",
          "name": "stdout",
          "text": [
            "[1, 2, 3, 4, 5, 6, 7, 8, 9, 'Hello']\n",
            "[1, 2, 3, 4, 5, 6, 7, 8, 9, 'Hello', [5, 6]]\n",
            "[1, 2, 3, 4, 5, 6, 7, 8, 9, 'Hello', [5, 6], 'A', 'b', 'd', 'u', 'l', 'l', 'a', 'h']\n",
            "[1, 2, 3, 4, 5, 6, 7, 8, 9, 'Hello', [5, 6], 'A', 'b', 'd', 'u', 'l', 'l', 'a', 'h', 'Abdul Rehman']\n",
            "[1, 2, 3, 4, 5, 6, 7, 8, 9, 'Hello', [5, 6], 'A', 'b', 'd', 'u', 'l', 'l', 'a', 'h', 'Abdul Rehman', 'world', 5.7, True]\n",
            "[1, 2, 3, 'Ali', 4, 5, 6, 7, 8, 9, 'Hello', [5, 6], 'A', 'b', 'd', 'u', 'l', 'l', 'a', 'h', 'Abdul Rehman', 'world', 5.7, True]\n"
          ]
        }
      ]
    },
    {
      "cell_type": "code",
      "source": [
        "# Delete items from list ---> Methods(del, remove, pop, clear)\n",
        "\n",
        "l1=[10,20,30,40,50,60,70,80,90,100,110,120,130,140,150]\n",
        "\n",
        "#del ---> can delete the whole list or specific list item or specific list portion using indexing & slicing method\n",
        "\n",
        "# through indexing\n",
        "del l1[0]\n",
        "print(l1)\n",
        "del l1[-1]\n",
        "print(l1)\n",
        "\n",
        "#through slicing\n",
        "del l1[2:5]\n",
        "print(l1)\n",
        "del l1[-3:-1]\n",
        "print(l1)\n",
        "\n",
        "#delete whole list\n",
        "#del l1\n",
        "#print(l1)\n",
        "\n",
        "\n",
        "#remove ----> delete the item through the actual item name\n",
        "l1.remove(90)\n",
        "print(l1)\n",
        "\n",
        "#pop ----> delete last item of the list\n",
        "l1.pop()\n",
        "print(l1)\n",
        "\n",
        "#clear ----> delete all items of the list\n",
        "l1.clear()\n",
        "print(l1)"
      ],
      "metadata": {
        "colab": {
          "base_uri": "https://localhost:8080/"
        },
        "id": "sjOpBUmqMY3Y",
        "outputId": "e6f5a00f-76d5-44c3-c71c-d9d1cc9f3615"
      },
      "execution_count": null,
      "outputs": [
        {
          "output_type": "stream",
          "name": "stdout",
          "text": [
            "[20, 30, 40, 50, 60, 70, 80, 90, 100, 110, 120, 130, 140, 150]\n",
            "[20, 30, 40, 50, 60, 70, 80, 90, 100, 110, 120, 130, 140]\n",
            "[20, 30, 70, 80, 90, 100, 110, 120, 130, 140]\n",
            "[20, 30, 70, 80, 90, 100, 110, 140]\n",
            "[20, 30, 70, 80, 100, 110, 140]\n",
            "[20, 30, 70, 80, 100, 110]\n",
            "[]\n"
          ]
        }
      ]
    },
    {
      "cell_type": "code",
      "source": [
        "# Operations with list\n",
        "\n",
        "#add ---> concatination\n",
        "l1=[1,2,3]\n",
        "l2=[3,4,5]\n",
        "print(l1+l2)\n",
        "\n",
        "#multiplication\n",
        "print(l1*3)\n",
        "\n",
        "#membership operator\n",
        "print(3 in l1)\n",
        "print(4 not in l2)\n",
        "\n",
        "\n",
        "#for loop\n",
        "l3=[1,2,3,4,5,[6,7,8]]\n",
        "for i in l3:\n",
        "  print(i)\n",
        "\n",
        "\n",
        "name=['asad','ali','ameen','muneeb','rashid','rasheed']\n",
        "for i in name:\n",
        "  print(i)"
      ],
      "metadata": {
        "id": "C_rbS8RJPAsv",
        "colab": {
          "base_uri": "https://localhost:8080/"
        },
        "outputId": "a9bf57ae-485b-45ed-9564-f9c1a62610dc"
      },
      "execution_count": null,
      "outputs": [
        {
          "output_type": "stream",
          "name": "stdout",
          "text": [
            "[1, 2, 3, 3, 4, 5]\n",
            "[1, 2, 3, 1, 2, 3, 1, 2, 3]\n",
            "True\n",
            "False\n",
            "1\n",
            "2\n",
            "3\n",
            "4\n",
            "5\n",
            "[6, 7, 8]\n",
            "asad\n",
            "ali\n",
            "ameen\n",
            "muneeb\n",
            "rashid\n",
            "rasheed\n"
          ]
        }
      ]
    },
    {
      "cell_type": "code",
      "source": [
        "#loop with list\n",
        "even=[]\n",
        "odd=[]\n",
        "\n",
        "for i in range(1,50):\n",
        "    if i%2==0:\n",
        "        even.append(i)\n",
        "\n",
        "    if i%2==1:\n",
        "        odd.append(i)\n",
        "\n",
        "print(even)\n",
        "print(odd)\n",
        "\n"
      ],
      "metadata": {
        "colab": {
          "base_uri": "https://localhost:8080/"
        },
        "id": "fWbPmLbfhxAp",
        "outputId": "e0f09188-6d39-45b9-c3a7-134161b80ad4"
      },
      "execution_count": null,
      "outputs": [
        {
          "output_type": "stream",
          "name": "stdout",
          "text": [
            "[2, 4, 6, 8, 10, 12, 14, 16, 18, 20, 22, 24, 26, 28, 30, 32, 34, 36, 38, 40, 42, 44, 46, 48]\n",
            "[1, 3, 5, 7, 9, 11, 13, 15, 17, 19, 21, 23, 25, 27, 29, 31, 33, 35, 37, 39, 41, 43, 45, 47, 49]\n"
          ]
        }
      ]
    },
    {
      "cell_type": "code",
      "source": [
        "#loop with list and nested coditions\n",
        "even=[]\n",
        "odd=[]\n",
        "\n",
        "for i in range(1,50):\n",
        "    if i%2==0:\n",
        "        if i%5!=0:\n",
        "            even.append(i)\n",
        "\n",
        "    if i%2==1:\n",
        "        if i%5!=0:\n",
        "            odd.append(i)\n",
        "\n",
        "print(even)\n",
        "print(odd)\n",
        "\n"
      ],
      "metadata": {
        "colab": {
          "base_uri": "https://localhost:8080/"
        },
        "id": "wQj4IVnNmCMy",
        "outputId": "383c489c-4aae-439d-8dca-499f0531b6d3"
      },
      "execution_count": null,
      "outputs": [
        {
          "output_type": "stream",
          "name": "stdout",
          "text": [
            "[2, 4, 6, 8, 12, 14, 16, 18, 22, 24, 26, 28, 32, 34, 36, 38, 42, 44, 46, 48]\n",
            "[1, 3, 7, 9, 11, 13, 17, 19, 21, 23, 27, 29, 31, 33, 37, 39, 41, 43, 47, 49]\n"
          ]
        }
      ]
    },
    {
      "cell_type": "code",
      "source": [
        "#Iterating over a list using for loop\n",
        "list1=['asad','hammad','ali','bilal','abdul rehman','usman','ameen']\n",
        "\n",
        "for name in list1:\n",
        "    print(f\"Thanks for coming Mr.{name}\")\n",
        "\n",
        "\n"
      ],
      "metadata": {
        "colab": {
          "base_uri": "https://localhost:8080/"
        },
        "id": "pWeDu4JTmFuS",
        "outputId": "d437a0ac-a993-42a7-a9e9-31a746853178"
      },
      "execution_count": null,
      "outputs": [
        {
          "output_type": "stream",
          "name": "stdout",
          "text": [
            "Thanks for coming Mr.asad\n",
            "Thanks for coming Mr.hammad\n",
            "Thanks for coming Mr.ali\n",
            "Thanks for coming Mr.bilal\n",
            "Thanks for coming Mr.abdul rehman\n",
            "Thanks for coming Mr.usman\n",
            "Thanks for coming Mr.ameen\n"
          ]
        }
      ]
    },
    {
      "cell_type": "code",
      "source": [
        "#list using for loop, condition and continue statement\n",
        "guestlist=[]\n",
        "\n",
        "for i in range(10):\n",
        "    guestname=input(\"Tell me your guest name: \")\n",
        "    if guestname=='asad':\n",
        "        continue\n",
        "    else:\n",
        "        guestlist.append(guestname)\n",
        "\n",
        "print(guestlist)"
      ],
      "metadata": {
        "colab": {
          "base_uri": "https://localhost:8080/"
        },
        "id": "loEhZtdhmIjy",
        "outputId": "915288f7-541c-4f1d-b55e-a7d4aeb554a4"
      },
      "execution_count": null,
      "outputs": [
        {
          "output_type": "stream",
          "name": "stdout",
          "text": [
            "Tell me your guest name: ali\n",
            "Tell me your guest name: ameen\n",
            "Tell me your guest name: rashid\n",
            "Tell me your guest name: rasheed\n",
            "Tell me your guest name: asad\n",
            "Tell me your guest name: nasir\n",
            "Tell me your guest name: akmal\n",
            "Tell me your guest name: umair\n",
            "Tell me your guest name: umer\n",
            "Tell me your guest name: ahmed\n",
            "['ali', 'ameen', 'rashid', 'rasheed', 'nasir', 'akmal', 'umair', 'umer', 'ahmed']\n"
          ]
        }
      ]
    },
    {
      "cell_type": "code",
      "source": [
        "#functions on list\n",
        "\n",
        "l=[1,2,3,4,5,6,7,8,9]\n",
        "\n",
        "#len\n",
        "print(len(l))\n",
        "\n",
        "#min\n",
        "print(min(l))\n",
        "\n",
        "#max\n",
        "print(max(l))\n",
        "\n",
        "#sum\n",
        "print(sum(l))\n",
        "\n",
        "#sorted\n",
        "print(sorted(l))\n",
        "print(sorted(l,reverse=True))\n",
        "\n",
        "#index -----> return the index of the value\n",
        "print(l.index(3))"
      ],
      "metadata": {
        "colab": {
          "base_uri": "https://localhost:8080/"
        },
        "id": "b0nAL1lrmJLZ",
        "outputId": "a98e737d-8bcd-40a5-988c-9ed2862a4ad4"
      },
      "execution_count": null,
      "outputs": [
        {
          "output_type": "stream",
          "name": "stdout",
          "text": [
            "9\n",
            "1\n",
            "9\n",
            "45\n",
            "[1, 2, 3, 4, 5, 6, 7, 8, 9]\n",
            "[9, 8, 7, 6, 5, 4, 3, 2, 1]\n",
            "2\n"
          ]
        }
      ]
    },
    {
      "cell_type": "markdown",
      "source": [
        "#### Task 1"
      ],
      "metadata": {
        "id": "82FSr8VHp8lg"
      }
    },
    {
      "cell_type": "code",
      "source": [
        "# convert the string into capital without using title\n",
        "string=\"hello how are you\"\n",
        "lst=[]\n",
        "for i in string.split():\n",
        "  lst.append(i.capitalize())\n",
        "\n",
        "string=\" \".join(lst)\n",
        "print(string)"
      ],
      "metadata": {
        "colab": {
          "base_uri": "https://localhost:8080/"
        },
        "id": "ANdPIViHm-JF",
        "outputId": "d7cc5156-b7bf-4338-9e0f-5bbda02456f2"
      },
      "execution_count": null,
      "outputs": [
        {
          "output_type": "stream",
          "name": "stdout",
          "text": [
            "Hello How Are You\n"
          ]
        }
      ]
    },
    {
      "cell_type": "markdown",
      "source": [
        "#### Task2"
      ],
      "metadata": {
        "id": "SByCHt3pqAq8"
      }
    },
    {
      "cell_type": "code",
      "source": [
        "# Extract the exact e-mail part from the given e-mail\n",
        "email=\"abc@gmail.com\"\n",
        "\n",
        "email_part=email[:email.find('@')]\n",
        "print(email_part)"
      ],
      "metadata": {
        "colab": {
          "base_uri": "https://localhost:8080/"
        },
        "id": "LsPLWkMvpLoq",
        "outputId": "3d44ff80-7013-4675-d0d7-3bfc3fd37db0"
      },
      "execution_count": null,
      "outputs": [
        {
          "output_type": "stream",
          "name": "stdout",
          "text": [
            "abc\n"
          ]
        }
      ]
    },
    {
      "cell_type": "markdown",
      "source": [
        "#### Task 3"
      ],
      "metadata": {
        "id": "1jciIYNOrFkm"
      }
    },
    {
      "cell_type": "code",
      "source": [
        "# Remove the dublicate items without using dublicate\n",
        "lst1=[1,2,4,3,3,6,5,5,8,2,1,0,7,8,6,7]\n",
        "lst2=[]\n",
        "for i in lst1:\n",
        "  if i not in lst2:\n",
        "    lst2.append(i)\n",
        "\n",
        "print(lst2)"
      ],
      "metadata": {
        "colab": {
          "base_uri": "https://localhost:8080/"
        },
        "id": "b2rD5mckqiZ9",
        "outputId": "a80c5a24-e4bd-4ede-d740-3eca379c34b5"
      },
      "execution_count": null,
      "outputs": [
        {
          "output_type": "stream",
          "name": "stdout",
          "text": [
            "[1, 2, 4, 3, 6, 5, 8, 0, 7]\n"
          ]
        }
      ]
    },
    {
      "cell_type": "markdown",
      "source": [
        "# Tuple"
      ],
      "metadata": {
        "id": "9VWuLq_7AoGc"
      }
    },
    {
      "cell_type": "code",
      "source": [
        "# Syntax\n",
        "\n",
        "# syntax:Tuple(element1,element2,..........element n)\n",
        "\n",
        "students=(\"asad\",\"fawad\",\"mehmmod\",\"aleem\",\"abdul rehman\",\"ishaq\",\"ameen\",\"umer\",\"ali\")\n",
        "#+ve index  0       1         2        3         4           5       6       7      8\n",
        "#-ve index -9      -8        -7       -6        -5          -4      -3      -2     -1\n",
        "\n",
        "print(students)"
      ],
      "metadata": {
        "id": "UzhfwUqHr9kC",
        "colab": {
          "base_uri": "https://localhost:8080/"
        },
        "outputId": "cdd15269-9689-4d34-b1a8-805469320af9"
      },
      "execution_count": null,
      "outputs": [
        {
          "output_type": "stream",
          "name": "stdout",
          "text": [
            "('asad', 'fawad', 'mehmmod', 'aleem', 'abdul rehman', 'ishaq', 'ameen', 'umer', 'ali')\n"
          ]
        }
      ]
    },
    {
      "cell_type": "markdown",
      "source": [
        "#### List Vs Tuple\n",
        "\n",
        "1. Syntax difference\n",
        "2. Can't make tuple with one element\n",
        "3. List is mutable while Tuple is immutable\n",
        "4. List is the both read & write data type but Tuple is read only data type\n",
        "4. Can add, edit, delete elements in list but can't in tuples"
      ],
      "metadata": {
        "id": "DWqGr61TFcQI"
      }
    },
    {
      "cell_type": "markdown",
      "source": [
        "#### Topics\n",
        "\n",
        "\n",
        "*   Create\n",
        "*   Access\n",
        "*   Edit\n",
        "*   Add\n",
        "*   Delete\n",
        "*   Operations\n",
        "*   **Functions**\n",
        "\n"
      ],
      "metadata": {
        "id": "sZ4PsTzYAr8k"
      }
    },
    {
      "cell_type": "code",
      "source": [
        "#Create tuple\n",
        "\n",
        "t1=() # empty tuple\n",
        "t2=(1,2,3,4,5) #homogenous tuple\n",
        "t3=('abdullah',10,20.7,True, (5+6j)) #hetrogenous tuple\n",
        "\n",
        "#Multidimensional tuple\n",
        "t4=(1,2,3,(4,5)) #2D\n",
        "t5=(1,2,3,(4,5,(6,7,8))) #3D\n",
        "\n",
        "#tuple with type conversion\n",
        "t6=tuple()\n",
        "t7=tuple('abdullah')\n",
        "\n",
        "\n",
        "print(t1,t2,t3)\n",
        "print(t4,t5)\n",
        "print(t6,t7)"
      ],
      "metadata": {
        "colab": {
          "base_uri": "https://localhost:8080/"
        },
        "id": "0QthMFLSBG7T",
        "outputId": "ca7da376-b303-45e6-e56b-d55b0eeb5896"
      },
      "execution_count": null,
      "outputs": [
        {
          "output_type": "stream",
          "name": "stdout",
          "text": [
            "() (1, 2, 3, 4, 5) ('abdullah', 10, 20.7, True, (5+6j))\n",
            "(1, 2, 3, (4, 5)) (1, 2, 3, (4, 5, (6, 7, 8)))\n",
            "() ('a', 'b', 'd', 'u', 'l', 'l', 'a', 'h')\n"
          ]
        }
      ]
    },
    {
      "cell_type": "markdown",
      "source": [
        "**Note:** Tuple can't make with one variable"
      ],
      "metadata": {
        "id": "6E62laEMDkUH"
      }
    },
    {
      "cell_type": "code",
      "source": [
        "a=(1)\n",
        "print(a)\n",
        "print(type(a))\n",
        "\n",
        "b=(\"hello\")\n",
        "print(b)\n",
        "print(type(b))"
      ],
      "metadata": {
        "colab": {
          "base_uri": "https://localhost:8080/"
        },
        "id": "TnkIi0YDBgJT",
        "outputId": "ad3cda07-fc86-42da-9087-61e915243fe7"
      },
      "execution_count": null,
      "outputs": [
        {
          "output_type": "stream",
          "name": "stdout",
          "text": [
            "1\n",
            "<class 'int'>\n",
            "hello\n",
            "<class 'str'>\n"
          ]
        }
      ]
    },
    {
      "cell_type": "markdown",
      "source": [
        "**Note:** To fix this you have to add comma after one element in tuple"
      ],
      "metadata": {
        "id": "xiEArVa0D3il"
      }
    },
    {
      "cell_type": "code",
      "source": [
        "a=(1,)\n",
        "print(a)\n",
        "print(type(a))\n",
        "\n",
        "b=(\"hello\",)\n",
        "print(b)\n",
        "print(type(b))"
      ],
      "metadata": {
        "colab": {
          "base_uri": "https://localhost:8080/"
        },
        "id": "u4C_RpXIC3ff",
        "outputId": "ccc648f5-2190-4458-ce17-de5ce3a1b247"
      },
      "execution_count": null,
      "outputs": [
        {
          "output_type": "stream",
          "name": "stdout",
          "text": [
            "(1,)\n",
            "<class 'tuple'>\n",
            "('hello',)\n",
            "<class 'tuple'>\n"
          ]
        }
      ]
    },
    {
      "cell_type": "code",
      "source": [
        "#Access (Inexing & Slicing) ----> Similar with list\n",
        "\n",
        "t=(1,2,3,4,5,6)\n",
        "\n",
        "#indexing\n",
        "print(t[3])\n",
        "print(t[-2])\n",
        "\n",
        "#slicing\n",
        "print(t[0:3])\n",
        "print(t[-4:-2])\n",
        "print(t[-5:-2:2])\n",
        "print(t[::-1])\n",
        "\n",
        "\n",
        "#Mlutidimensional tuple\n",
        "\n",
        "x=(1,2,3,(4,5))\n",
        "\n",
        "#indexing\n",
        "print(x[3][0])\n",
        "print(x[-1][-1])\n",
        "\n"
      ],
      "metadata": {
        "colab": {
          "base_uri": "https://localhost:8080/"
        },
        "id": "FotFNp9NEGSE",
        "outputId": "9584615e-5f9f-433c-eab9-1a612f9e7ee8"
      },
      "execution_count": null,
      "outputs": [
        {
          "output_type": "stream",
          "name": "stdout",
          "text": [
            "4\n",
            "5\n",
            "(1, 2, 3)\n",
            "(3, 4)\n",
            "(2, 4)\n",
            "(6, 5, 4, 3, 2, 1)\n",
            "4\n",
            "5\n"
          ]
        }
      ]
    },
    {
      "cell_type": "code",
      "source": [
        " #Edit list items ---> tuple is immutable in python like string (can edit the existing items of tuple)\n",
        "\n",
        "t=(1,2,3,4,5,6,7,8,9)\n",
        "t[0]=100"
      ],
      "metadata": {
        "colab": {
          "base_uri": "https://localhost:8080/",
          "height": 176
        },
        "id": "B8BigXIGHACV",
        "outputId": "bdabb8dd-c482-4ea2-9589-acce0cf93116"
      },
      "execution_count": null,
      "outputs": [
        {
          "output_type": "error",
          "ename": "TypeError",
          "evalue": "'tuple' object does not support item assignment",
          "traceback": [
            "\u001b[0;31m---------------------------------------------------------------------------\u001b[0m",
            "\u001b[0;31mTypeError\u001b[0m                                 Traceback (most recent call last)",
            "\u001b[0;32m/tmp/ipython-input-2327838944.py\u001b[0m in \u001b[0;36m<cell line: 0>\u001b[0;34m()\u001b[0m\n\u001b[1;32m      2\u001b[0m \u001b[0;34m\u001b[0m\u001b[0m\n\u001b[1;32m      3\u001b[0m \u001b[0mt\u001b[0m\u001b[0;34m=\u001b[0m\u001b[0;34m(\u001b[0m\u001b[0;36m1\u001b[0m\u001b[0;34m,\u001b[0m\u001b[0;36m2\u001b[0m\u001b[0;34m,\u001b[0m\u001b[0;36m3\u001b[0m\u001b[0;34m,\u001b[0m\u001b[0;36m4\u001b[0m\u001b[0;34m,\u001b[0m\u001b[0;36m5\u001b[0m\u001b[0;34m,\u001b[0m\u001b[0;36m6\u001b[0m\u001b[0;34m,\u001b[0m\u001b[0;36m7\u001b[0m\u001b[0;34m,\u001b[0m\u001b[0;36m8\u001b[0m\u001b[0;34m,\u001b[0m\u001b[0;36m9\u001b[0m\u001b[0;34m)\u001b[0m\u001b[0;34m\u001b[0m\u001b[0;34m\u001b[0m\u001b[0m\n\u001b[0;32m----> 4\u001b[0;31m \u001b[0mt\u001b[0m\u001b[0;34m[\u001b[0m\u001b[0;36m0\u001b[0m\u001b[0;34m]\u001b[0m\u001b[0;34m=\u001b[0m\u001b[0;36m100\u001b[0m\u001b[0;34m\u001b[0m\u001b[0;34m\u001b[0m\u001b[0m\n\u001b[0m",
            "\u001b[0;31mTypeError\u001b[0m: 'tuple' object does not support item assignment"
          ]
        }
      ]
    },
    {
      "cell_type": "code",
      "source": [
        "# Add ----> Can't add elements to tuples because of immputable (can't edit the existing items of tuple)"
      ],
      "metadata": {
        "id": "2OJsD6gxIGiG"
      },
      "execution_count": null,
      "outputs": []
    },
    {
      "cell_type": "code",
      "source": [
        "#Delete tuple\n",
        "\n",
        "t=(1,2,3,4,5,6)\n",
        "\n",
        "#delete entire tuple ---> possible\n",
        "del t\n",
        "\n",
        "# Delete an element from the tuple -----> not possible because of immputable (can't edit the existing items of tuple)\n",
        "t1=(1,2,3,4,5)\n",
        "del t1[3]\n",
        "\n"
      ],
      "metadata": {
        "id": "XBMp0uANJhtW",
        "colab": {
          "base_uri": "https://localhost:8080/",
          "height": 193
        },
        "outputId": "01ce1b35-ac5f-40e9-e0ad-2f16e8871d1a"
      },
      "execution_count": null,
      "outputs": [
        {
          "output_type": "error",
          "ename": "TypeError",
          "evalue": "'tuple' object doesn't support item deletion",
          "traceback": [
            "\u001b[0;31m---------------------------------------------------------------------------\u001b[0m",
            "\u001b[0;31mTypeError\u001b[0m                                 Traceback (most recent call last)",
            "\u001b[0;32m/tmp/ipython-input-1856180354.py\u001b[0m in \u001b[0;36m<cell line: 0>\u001b[0;34m()\u001b[0m\n\u001b[1;32m      9\u001b[0m \u001b[0mt1\u001b[0m\u001b[0;34m=\u001b[0m\u001b[0;34m(\u001b[0m\u001b[0;36m1\u001b[0m\u001b[0;34m,\u001b[0m\u001b[0;36m2\u001b[0m\u001b[0;34m,\u001b[0m\u001b[0;36m3\u001b[0m\u001b[0;34m,\u001b[0m\u001b[0;36m4\u001b[0m\u001b[0;34m,\u001b[0m\u001b[0;36m5\u001b[0m\u001b[0;34m)\u001b[0m\u001b[0;34m\u001b[0m\u001b[0;34m\u001b[0m\u001b[0m\n\u001b[1;32m     10\u001b[0m \u001b[0;31m# Delete an element from the tuple -----> not possible because of immputable (can't edit the existing items of tuple)\u001b[0m\u001b[0;34m\u001b[0m\u001b[0;34m\u001b[0m\u001b[0m\n\u001b[0;32m---> 11\u001b[0;31m \u001b[0;32mdel\u001b[0m \u001b[0mt1\u001b[0m\u001b[0;34m[\u001b[0m\u001b[0;36m3\u001b[0m\u001b[0;34m]\u001b[0m\u001b[0;34m\u001b[0m\u001b[0;34m\u001b[0m\u001b[0m\n\u001b[0m\u001b[1;32m     12\u001b[0m \u001b[0;34m\u001b[0m\u001b[0m\n",
            "\u001b[0;31mTypeError\u001b[0m: 'tuple' object doesn't support item deletion"
          ]
        }
      ]
    },
    {
      "cell_type": "code",
      "source": [
        "#operations with tuple ----> similar to list\n",
        "\n",
        "#add ---> concatination\n",
        "t1=(1,2,3)\n",
        "t2=(3,4,5)\n",
        "print(t1+t2)\n",
        "\n",
        "#multiplication\n",
        "print(t1*3)\n",
        "\n",
        "#membership operator\n",
        "print(3 in t1)\n",
        "print(4 not in t2)\n",
        "\n",
        "\n",
        "#for loop\n",
        "t3=(1,2,3,4,5,(6,7,8))\n",
        "for i in t3:\n",
        "  print(i)\n",
        "\n",
        "\n",
        "name=('asad','ali','ameen','muneeb','rashid','rasheed')\n",
        "for i in name:\n",
        "  print(i)"
      ],
      "metadata": {
        "colab": {
          "base_uri": "https://localhost:8080/"
        },
        "id": "b1F1Djgacav4",
        "outputId": "d25b388c-b6d4-4e28-82c4-c942e10d0110"
      },
      "execution_count": null,
      "outputs": [
        {
          "output_type": "stream",
          "name": "stdout",
          "text": [
            "(1, 2, 3, 3, 4, 5)\n",
            "(1, 2, 3, 1, 2, 3, 1, 2, 3)\n",
            "True\n",
            "False\n",
            "1\n",
            "2\n",
            "3\n",
            "4\n",
            "5\n",
            "(6, 7, 8)\n",
            "asad\n",
            "ali\n",
            "ameen\n",
            "muneeb\n",
            "rashid\n",
            "rasheed\n"
          ]
        }
      ]
    },
    {
      "cell_type": "code",
      "source": [
        "#Functions of Tuple ----> similar to list\n",
        "\n",
        "t=(1,2,3,4,5,6,7,8,9)\n",
        "\n",
        "#len\n",
        "print(len(t))\n",
        "\n",
        "#min\n",
        "print(min(t))\n",
        "\n",
        "#max\n",
        "print(max(t))\n",
        "\n",
        "#sum\n",
        "print(sum(t))\n",
        "\n",
        "#sorted\n",
        "print(sorted(t))\n",
        "print(sorted(t,reverse=True))\n",
        "\n",
        "#index\n",
        "print(t.index(3))"
      ],
      "metadata": {
        "colab": {
          "base_uri": "https://localhost:8080/"
        },
        "id": "9TYn3q0LeVRp",
        "outputId": "7e709466-364d-4a10-f97c-8d7961399339"
      },
      "execution_count": null,
      "outputs": [
        {
          "output_type": "stream",
          "name": "stdout",
          "text": [
            "9\n",
            "1\n",
            "9\n",
            "45\n",
            "[1, 2, 3, 4, 5, 6, 7, 8, 9]\n",
            "[9, 8, 7, 6, 5, 4, 3, 2, 1]\n",
            "2\n"
          ]
        }
      ]
    },
    {
      "cell_type": "markdown",
      "source": [
        "#Sets\n",
        "\n"
      ],
      "metadata": {
        "id": "uci4NM1gmlNl"
      }
    },
    {
      "cell_type": "code",
      "source": [
        "#syntax: # syntax:set{element1,element2,..........element n}\n",
        "\n",
        "\n",
        "s={1,2,3,4,5}\n",
        "print(s)\n",
        "print(type(s))"
      ],
      "metadata": {
        "id": "wB3qdJvRfEt8",
        "colab": {
          "base_uri": "https://localhost:8080/"
        },
        "outputId": "766e643e-89ec-42e8-f614-cf2d0d69e6a1"
      },
      "execution_count": 6,
      "outputs": [
        {
          "output_type": "stream",
          "name": "stdout",
          "text": [
            "{1, 2, 3, 4, 5}\n",
            "<class 'set'>\n"
          ]
        }
      ]
    },
    {
      "cell_type": "markdown",
      "source": [
        "## Sets Rules\n",
        "\n",
        "\n",
        "\n",
        "1.  Sets do not allow duplicates\n",
        "2.  Sets do not allow indexing & slicing\n",
        "4.  Sets itself is a mutable data type  \n",
        "3.  Sets do not allow mutable data types in the elements\n",
        "5.  Sets are un-ordered data type\n",
        "\n",
        "\n",
        "\n",
        "####Topics\n",
        "\n",
        "*   Create\n",
        "*   Access\n",
        "*   Edit\n",
        "*   Add\n",
        "*   Delete\n",
        "*   Operations\n",
        "*   Functions\n",
        "\n",
        "\n",
        "\n",
        "\n"
      ],
      "metadata": {
        "id": "YYSvq340oai1"
      }
    },
    {
      "cell_type": "code",
      "source": [
        "# Create Sets\n",
        "\n",
        "s={} # this will make dictionary , not set because python make dictionary as implicit type conversion.\n",
        "print(type(s))\n",
        "s1={1,}  # add comma after one variable can make it dictionary\n",
        "print(type(s1))\n",
        "\n",
        "s2={10,20,30,40,50,60} #homogenous list\n",
        "s3={'abdullah',10,20.7,True, (5+6j)}  #hetrogenous list\n",
        "\n",
        "print(s1,s2,s3)\n",
        "\n",
        "\n",
        "#List with type conversion\n",
        "s6=set()\n",
        "s7=set('ABDULLAH')\n",
        "\n",
        "\n",
        "print(s6,s7)"
      ],
      "metadata": {
        "colab": {
          "base_uri": "https://localhost:8080/"
        },
        "id": "UpIXLYmdn_DF",
        "outputId": "bfae069d-d6f8-4d46-fd53-9ad612fb3dbe"
      },
      "execution_count": null,
      "outputs": [
        {
          "output_type": "stream",
          "name": "stdout",
          "text": [
            "<class 'dict'>\n",
            "<class 'set'>\n",
            "{1} {50, 20, 40, 10, 60, 30} {True, 20.7, (5+6j), 'abdullah', 10}\n",
            "set() {'L', 'D', 'B', 'A', 'H', 'U'}\n"
          ]
        }
      ]
    },
    {
      "cell_type": "code",
      "source": [
        "#multidimensional set  -----> Rule 4. Set don't allow mutable datatypes, so set also do not allow itself as a mutale datatype in itself\n",
        "\n",
        "s4={1,2,3,{4,5}}    #2D"
      ],
      "metadata": {
        "colab": {
          "base_uri": "https://localhost:8080/",
          "height": 176
        },
        "id": "mrhFrx9GpcqU",
        "outputId": "e50df60f-3004-4b1b-b7ca-47f00e5b3e86"
      },
      "execution_count": null,
      "outputs": [
        {
          "output_type": "error",
          "ename": "TypeError",
          "evalue": "unhashable type: 'set'",
          "traceback": [
            "\u001b[0;31m---------------------------------------------------------------------------\u001b[0m",
            "\u001b[0;31mTypeError\u001b[0m                                 Traceback (most recent call last)",
            "\u001b[0;32m/tmp/ipython-input-3947301780.py\u001b[0m in \u001b[0;36m<cell line: 0>\u001b[0;34m()\u001b[0m\n\u001b[1;32m      1\u001b[0m \u001b[0;31m#multidimensional set  -----> Rule 4. Set donot allow mutable datatypes, so set also do not allow itself as a mutale datatype in itself\u001b[0m\u001b[0;34m\u001b[0m\u001b[0;34m\u001b[0m\u001b[0m\n\u001b[1;32m      2\u001b[0m \u001b[0;34m\u001b[0m\u001b[0m\n\u001b[0;32m----> 3\u001b[0;31m \u001b[0ms4\u001b[0m\u001b[0;34m=\u001b[0m\u001b[0;34m{\u001b[0m\u001b[0;36m1\u001b[0m\u001b[0;34m,\u001b[0m\u001b[0;36m2\u001b[0m\u001b[0;34m,\u001b[0m\u001b[0;36m3\u001b[0m\u001b[0;34m,\u001b[0m\u001b[0;34m{\u001b[0m\u001b[0;36m4\u001b[0m\u001b[0;34m,\u001b[0m\u001b[0;36m5\u001b[0m\u001b[0;34m}\u001b[0m\u001b[0;34m}\u001b[0m    \u001b[0;31m#2D\u001b[0m\u001b[0;34m\u001b[0m\u001b[0;34m\u001b[0m\u001b[0m\n\u001b[0m",
            "\u001b[0;31mTypeError\u001b[0m: unhashable type: 'set'"
          ]
        }
      ]
    },
    {
      "cell_type": "code",
      "source": [
        "# Duplicate ----> Rule 1. Set not allow duplicates in itself\n",
        "s8={2,3,3,6,4,8,6,1,4,3,5}\n",
        "print(s8)\n"
      ],
      "metadata": {
        "colab": {
          "base_uri": "https://localhost:8080/"
        },
        "id": "9E8DV_4xrb-r",
        "outputId": "3f78226b-6a9b-4fc3-e87d-f1fdf92f8455"
      },
      "execution_count": null,
      "outputs": [
        {
          "output_type": "stream",
          "name": "stdout",
          "text": [
            "{1, 2, 3, 4, 5, 6, 8}\n"
          ]
        }
      ]
    },
    {
      "cell_type": "code",
      "source": [
        "# Rule 5. ----> Set are unordered data type so it set the elements according to hashing algorithm\n",
        "s9={'Hello',2,5.7,True}\n",
        "print(s9)"
      ],
      "metadata": {
        "id": "rW44w8nisDJp",
        "colab": {
          "base_uri": "https://localhost:8080/"
        },
        "outputId": "1cfd3877-a72c-4e27-8843-1fd0f35210ce"
      },
      "execution_count": null,
      "outputs": [
        {
          "output_type": "stream",
          "name": "stdout",
          "text": [
            "{True, 2, 'Hello', 5.7}\n"
          ]
        }
      ]
    },
    {
      "cell_type": "code",
      "source": [
        "# Access Items in Set ----> Rule 2. Set do not allow indexing and slicing\n",
        "\n",
        "s10={1,2,3,4,5,6}\n",
        "\n",
        "\n",
        "print(s10[3])\n",
        "\n",
        "print(s10[2:5])"
      ],
      "metadata": {
        "colab": {
          "base_uri": "https://localhost:8080/",
          "height": 211
        },
        "id": "hFfvQTcwBrXy",
        "outputId": "356fa6b5-447f-49c3-b546-6bb3428149d5"
      },
      "execution_count": null,
      "outputs": [
        {
          "output_type": "error",
          "ename": "TypeError",
          "evalue": "'set' object is not subscriptable",
          "traceback": [
            "\u001b[0;31m---------------------------------------------------------------------------\u001b[0m",
            "\u001b[0;31mTypeError\u001b[0m                                 Traceback (most recent call last)",
            "\u001b[0;32m/tmp/ipython-input-1130166506.py\u001b[0m in \u001b[0;36m<cell line: 0>\u001b[0;34m()\u001b[0m\n\u001b[1;32m      4\u001b[0m \u001b[0;34m\u001b[0m\u001b[0m\n\u001b[1;32m      5\u001b[0m \u001b[0;34m\u001b[0m\u001b[0m\n\u001b[0;32m----> 6\u001b[0;31m \u001b[0mprint\u001b[0m\u001b[0;34m(\u001b[0m\u001b[0ms10\u001b[0m\u001b[0;34m[\u001b[0m\u001b[0;36m3\u001b[0m\u001b[0;34m]\u001b[0m\u001b[0;34m)\u001b[0m\u001b[0;34m\u001b[0m\u001b[0;34m\u001b[0m\u001b[0m\n\u001b[0m\u001b[1;32m      7\u001b[0m \u001b[0;34m\u001b[0m\u001b[0m\n\u001b[1;32m      8\u001b[0m \u001b[0mprint\u001b[0m\u001b[0;34m(\u001b[0m\u001b[0ms10\u001b[0m\u001b[0;34m[\u001b[0m\u001b[0;36m2\u001b[0m\u001b[0;34m:\u001b[0m\u001b[0;36m5\u001b[0m\u001b[0;34m]\u001b[0m\u001b[0;34m)\u001b[0m\u001b[0;34m\u001b[0m\u001b[0;34m\u001b[0m\u001b[0m\n",
            "\u001b[0;31mTypeError\u001b[0m: 'set' object is not subscriptable"
          ]
        }
      ]
    },
    {
      "cell_type": "code",
      "source": [
        "# Add items in Set  -----> Reule 3. Sets itself is a mutable data type\n",
        "\n",
        "s11={1,2,3,4,5,6,7}\n",
        "\n",
        "#add  -----> can add only one item\n",
        "s11.add(8)\n",
        "print(s11)\n",
        "\n",
        "\n",
        "#update ----> It accept any iterale like list, tuple ,set.\n",
        "#({4,5} was not added as a whole single object, but instead its inner elements (4 and 5) were extracted and inserted into the set.)\n",
        "s11.update([9, 10],{11, 12}, (13, 14))\n",
        "print(s11)\n",
        "\n"
      ],
      "metadata": {
        "id": "cl4CT0wvD38B",
        "colab": {
          "base_uri": "https://localhost:8080/"
        },
        "outputId": "5c965d63-ab40-46fe-8350-a93de0c5ce28"
      },
      "execution_count": null,
      "outputs": [
        {
          "output_type": "stream",
          "name": "stdout",
          "text": [
            "{1, 2, 3, 4, 5, 6, 7, 8}\n",
            "{1, 2, 3, 4, 5, 6, 7, 8, 9, 10, 11, 12, 13, 14}\n",
            "{1, 2, 3, 4, 5}\n",
            "{1, 2, 3}\n"
          ]
        }
      ]
    },
    {
      "cell_type": "code",
      "source": [
        "# Delete Sets\n",
        "\n",
        "s={10,20,30,40,50,60,70,80,90}\n",
        "\n",
        "# Remove -----> remove the element in set by the actual value  the elemet\n",
        "s.remove(90)\n",
        "print(s)\n",
        "\n",
        "#pop ----> Remove the last element\n",
        "# Rule 2. Set do not allow indexing and slicing (so it pop last element on the bsis of hashing)\n",
        "s15={1,2,3,4,5}\n",
        "s15.pop()\n",
        "print(s15)\n",
        "\n",
        "#clear ----> clear all the elements from set\n",
        "s15.clear()\n",
        "print(s15)\n",
        "\n",
        "# del ----> delete entire set\n",
        "del s\n",
        "\n",
        "# Rule 2. Set do not allow indexing and slicing (so not allow delete on basis of indexing)\n",
        "s1={10,20,30,40,50,60,70,80,90}\n",
        "del s1[3]"
      ],
      "metadata": {
        "colab": {
          "base_uri": "https://localhost:8080/",
          "height": 245
        },
        "id": "PlkupWtTkw8T",
        "outputId": "4e12c280-8258-4724-91fa-3881ae5ffa2c"
      },
      "execution_count": null,
      "outputs": [
        {
          "output_type": "stream",
          "name": "stdout",
          "text": [
            "{70, 40, 10, 80, 50, 20, 60, 30}\n",
            "{2, 3, 4, 5}\n",
            "set()\n"
          ]
        },
        {
          "output_type": "error",
          "ename": "TypeError",
          "evalue": "'set' object doesn't support item deletion",
          "traceback": [
            "\u001b[0;31m---------------------------------------------------------------------------\u001b[0m",
            "\u001b[0;31mTypeError\u001b[0m                                 Traceback (most recent call last)",
            "\u001b[0;32m/tmp/ipython-input-1234871282.py\u001b[0m in \u001b[0;36m<cell line: 0>\u001b[0;34m()\u001b[0m\n\u001b[1;32m     22\u001b[0m \u001b[0;31m# Rule 2. Set do not allow indexing and slicing (so not allow delete on basis of indexing)\u001b[0m\u001b[0;34m\u001b[0m\u001b[0;34m\u001b[0m\u001b[0m\n\u001b[1;32m     23\u001b[0m \u001b[0ms1\u001b[0m\u001b[0;34m=\u001b[0m\u001b[0;34m{\u001b[0m\u001b[0;36m10\u001b[0m\u001b[0;34m,\u001b[0m\u001b[0;36m20\u001b[0m\u001b[0;34m,\u001b[0m\u001b[0;36m30\u001b[0m\u001b[0;34m,\u001b[0m\u001b[0;36m40\u001b[0m\u001b[0;34m,\u001b[0m\u001b[0;36m50\u001b[0m\u001b[0;34m,\u001b[0m\u001b[0;36m60\u001b[0m\u001b[0;34m,\u001b[0m\u001b[0;36m70\u001b[0m\u001b[0;34m,\u001b[0m\u001b[0;36m80\u001b[0m\u001b[0;34m,\u001b[0m\u001b[0;36m90\u001b[0m\u001b[0;34m}\u001b[0m\u001b[0;34m\u001b[0m\u001b[0;34m\u001b[0m\u001b[0m\n\u001b[0;32m---> 24\u001b[0;31m \u001b[0;32mdel\u001b[0m \u001b[0ms1\u001b[0m\u001b[0;34m[\u001b[0m\u001b[0;36m3\u001b[0m\u001b[0;34m]\u001b[0m\u001b[0;34m\u001b[0m\u001b[0;34m\u001b[0m\u001b[0m\n\u001b[0m\u001b[1;32m     25\u001b[0m \u001b[0;34m\u001b[0m\u001b[0m\n",
            "\u001b[0;31mTypeError\u001b[0m: 'set' object doesn't support item deletion"
          ]
        }
      ]
    },
    {
      "cell_type": "code",
      "source": [
        "# operations on set\n",
        "\n",
        "s1={1,2,3,4,5}\n",
        "\n",
        "\n",
        "#loop\n",
        "for i in s1:\n",
        "  print(i)\n",
        "\n",
        "\n",
        "#membership operators\n",
        "2 in s1\n",
        "\n",
        "#product ----> Not allow in sets because it makes duplicate, Rule 1. Set not allow duplicates in itself\n",
        "print(s1*3)\n",
        "\n",
        "\n",
        "#addition of sets also (conctination) not exist in sets, instead set have union function"
      ],
      "metadata": {
        "colab": {
          "base_uri": "https://localhost:8080/",
          "height": 297
        },
        "id": "EjfPz0oQl-1u",
        "outputId": "9147d26e-5bdc-4128-e881-b9d52a01d2ad"
      },
      "execution_count": null,
      "outputs": [
        {
          "output_type": "stream",
          "name": "stdout",
          "text": [
            "1\n",
            "2\n",
            "3\n",
            "4\n",
            "5\n"
          ]
        },
        {
          "output_type": "error",
          "ename": "TypeError",
          "evalue": "unsupported operand type(s) for *: 'set' and 'int'",
          "traceback": [
            "\u001b[0;31m---------------------------------------------------------------------------\u001b[0m",
            "\u001b[0;31mTypeError\u001b[0m                                 Traceback (most recent call last)",
            "\u001b[0;32m/tmp/ipython-input-3901267921.py\u001b[0m in \u001b[0;36m<cell line: 0>\u001b[0;34m()\u001b[0m\n\u001b[1;32m     13\u001b[0m \u001b[0;34m\u001b[0m\u001b[0m\n\u001b[1;32m     14\u001b[0m \u001b[0;31m#product ----> Not allow in sets because it makes duplicate, Rule 1. Set not allow duplicates in itself\u001b[0m\u001b[0;34m\u001b[0m\u001b[0;34m\u001b[0m\u001b[0m\n\u001b[0;32m---> 15\u001b[0;31m \u001b[0mprint\u001b[0m\u001b[0;34m(\u001b[0m\u001b[0ms1\u001b[0m\u001b[0;34m*\u001b[0m\u001b[0;36m3\u001b[0m\u001b[0;34m)\u001b[0m\u001b[0;34m\u001b[0m\u001b[0;34m\u001b[0m\u001b[0m\n\u001b[0m\u001b[1;32m     16\u001b[0m \u001b[0;34m\u001b[0m\u001b[0m\n\u001b[1;32m     17\u001b[0m \u001b[0;34m\u001b[0m\u001b[0m\n",
            "\u001b[0;31mTypeError\u001b[0m: unsupported operand type(s) for *: 'set' and 'int'"
          ]
        }
      ]
    },
    {
      "cell_type": "code",
      "source": [
        "# Fuctions on set\n",
        "\n",
        "s1={1,2,3,4,5}\n",
        "\n",
        "#len\n",
        "print(len(s1))\n",
        "\n",
        "#min\n",
        "print(min(s1))\n",
        "\n",
        "#max\n",
        "print(max(s1))\n",
        "\n",
        "#sum\n",
        "print(sum(s1))\n",
        "\n",
        "#sorted  -----> convert set to list implicitly\n",
        "print(sorted(s1))\n",
        "print(sorted(s1,reverse=True))\n",
        "\n",
        "\n",
        "#union ----> it make a new set from another  set without change in the original set\n",
        "s1 = {1, 2, 3}\n",
        "s2={3,4,5}\n",
        "s3 = s1.union(s2)\n",
        "print(f'Union = {s3}')\n",
        "print(s2)\n",
        "print(s1)       # original remains same\n",
        "\n",
        "\n",
        "#intersection ----> Return the same elements in both sets\n",
        "s1 = {1, 2, 3}\n",
        "s2={3,4,5}\n",
        "s3 = s1.intersection(s2)\n",
        "print(f'Intersection = {s3}')\n",
        "print(s2)\n",
        "print(s1)\n",
        "\n",
        "\n",
        "#difference ----> Return the elemnts that are in s1 but not in s2\n",
        "s1 = {1, 2, 3}\n",
        "s2={3,4,5}\n",
        "s3 = s1.difference(s2)\n",
        "print(f'Difference = {s3}')\n",
        "print(s2)\n",
        "print(s1)"
      ],
      "metadata": {
        "colab": {
          "base_uri": "https://localhost:8080/"
        },
        "id": "UD7ggsOAoVKp",
        "outputId": "54000cf7-4248-4659-cc91-73bf14936eec"
      },
      "execution_count": null,
      "outputs": [
        {
          "output_type": "stream",
          "name": "stdout",
          "text": [
            "5\n",
            "1\n",
            "5\n",
            "15\n",
            "[1, 2, 3, 4, 5]\n",
            "[5, 4, 3, 2, 1]\n",
            "Union = {1, 2, 3, 4, 5}\n",
            "{3, 4, 5}\n",
            "{1, 2, 3}\n",
            "Intersection = {3}\n",
            "{3, 4, 5}\n",
            "{1, 2, 3}\n",
            "Difference = {1, 2}\n",
            "{3, 4, 5}\n",
            "{1, 2, 3}\n"
          ]
        }
      ]
    },
    {
      "cell_type": "code",
      "source": [],
      "metadata": {
        "id": "crbqhjnuDsPx"
      },
      "execution_count": null,
      "outputs": []
    }
  ]
}