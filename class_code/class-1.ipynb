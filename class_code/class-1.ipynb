{
 "cells": [
  {
   "cell_type": "code",
   "execution_count": 1,
   "id": "e0524b29-ea07-4215-968c-57a9eb355da6",
   "metadata": {},
   "outputs": [
    {
     "name": "stdout",
     "output_type": "stream",
     "text": [
      "Hello World!\n"
     ]
    }
   ],
   "source": [
    "print(\"Hello World!\")"
   ]
  },
  {
   "cell_type": "code",
   "execution_count": 2,
   "id": "f4518174-58d6-4ea5-a37e-19fc45ebfa8a",
   "metadata": {},
   "outputs": [
    {
     "name": "stdout",
     "output_type": "stream",
     "text": [
      "123\n"
     ]
    }
   ],
   "source": [
    "print(123)"
   ]
  },
  {
   "cell_type": "code",
   "execution_count": 3,
   "id": "4f0371ce-3d95-4452-ae4b-3b4a8fa0383c",
   "metadata": {},
   "outputs": [
    {
     "name": "stdout",
     "output_type": "stream",
     "text": [
      "1232.5\n"
     ]
    }
   ],
   "source": [
    "print(1232.5)"
   ]
  },
  {
   "cell_type": "code",
   "execution_count": 4,
   "id": "bd476631-674b-42bc-aed3-842c11309775",
   "metadata": {},
   "outputs": [
    {
     "name": "stdout",
     "output_type": "stream",
     "text": [
      "Hello World\n"
     ]
    }
   ],
   "source": [
    "print(\"Hello\",\"World\")"
   ]
  },
  {
   "cell_type": "code",
   "execution_count": 5,
   "id": "0da07604-071f-4bd0-b3c1-0747f00852fd",
   "metadata": {},
   "outputs": [
    {
     "name": "stdout",
     "output_type": "stream",
     "text": [
      "Hello 123 True\n"
     ]
    }
   ],
   "source": [
    "print(\"Hello\",123,True)"
   ]
  },
  {
   "cell_type": "code",
   "execution_count": 6,
   "id": "100bf5e1-1dc9-4604-aa87-4c9896911c65",
   "metadata": {},
   "outputs": [
    {
     "name": "stdout",
     "output_type": "stream",
     "text": [
      "Hello#World#123\n"
     ]
    }
   ],
   "source": [
    "print(\"Hello\",\"World\",123,sep=\"#\")"
   ]
  },
  {
   "cell_type": "code",
   "execution_count": 7,
   "id": "70d08907-148f-4329-90a0-97a452355279",
   "metadata": {},
   "outputs": [
    {
     "name": "stdout",
     "output_type": "stream",
     "text": [
      "Hello\n",
      "World!\n",
      "123\n"
     ]
    }
   ],
   "source": [
    "print(\"Hello\",end=\"\\n\")\n",
    "print(\"World!\",end=\"\\n\")\n",
    "print(123)"
   ]
  },
  {
   "cell_type": "code",
   "execution_count": 8,
   "id": "f22df122-9b0c-405c-a889-6f2b2dca522d",
   "metadata": {},
   "outputs": [
    {
     "ename": "SyntaxError",
     "evalue": "invalid syntax (1789225188.py, line 2)",
     "output_type": "error",
     "traceback": [
      "\u001b[1;36m  Cell \u001b[1;32mIn[8], line 2\u001b[1;36m\u001b[0m\n\u001b[1;33m    Basic Data types (integer,float_value,Boolen, String, Complex)\u001b[0m\n\u001b[1;37m          ^\u001b[0m\n\u001b[1;31mSyntaxError\u001b[0m\u001b[1;31m:\u001b[0m invalid syntax\n"
     ]
    }
   ],
   "source": [
    "###Data Types\n",
    "Basic Data types (integer,float_value,Boolen, String, Complex)\n",
    "container data types(List, Tuple, Sets, Dictionory)\n",
    "Unser Defined types(Class)"
   ]
  },
  {
   "cell_type": "code",
   "execution_count": 9,
   "id": "ef54fcb2-40da-4643-8c4d-7eec40f55b6a",
   "metadata": {},
   "outputs": [
    {
     "name": "stdout",
     "output_type": "stream",
     "text": [
      "(5+6j)\n"
     ]
    }
   ],
   "source": [
    "print(5+6j)"
   ]
  },
  {
   "cell_type": "code",
   "execution_count": 10,
   "id": "dabea849-74dd-448d-95e0-2db3cdac743e",
   "metadata": {},
   "outputs": [
    {
     "name": "stdout",
     "output_type": "stream",
     "text": [
      "[1, 2, 'h']\n"
     ]
    }
   ],
   "source": [
    "# list\n",
    "print([1,2,\"h\"])"
   ]
  },
  {
   "cell_type": "code",
   "execution_count": 11,
   "id": "6fba07f9-dbe5-4a81-8f17-f30a8957fcd8",
   "metadata": {},
   "outputs": [
    {
     "name": "stdout",
     "output_type": "stream",
     "text": [
      "(544, 'dfgdf', True)\n"
     ]
    }
   ],
   "source": [
    "#Tuple\n",
    "print((544,'dfgdf',True))"
   ]
  },
  {
   "cell_type": "code",
   "execution_count": 12,
   "id": "cc874cd1-c5b1-4095-a570-bd0b5e79ae15",
   "metadata": {},
   "outputs": [
    {
     "name": "stdout",
     "output_type": "stream",
     "text": [
      "{False, 2324, 'type'}\n"
     ]
    }
   ],
   "source": [
    "#Sets\n",
    "print({\"type\",2324,False})"
   ]
  },
  {
   "cell_type": "code",
   "execution_count": 13,
   "id": "36e9149f-38e2-4f21-8102-edfc5c27779c",
   "metadata": {},
   "outputs": [
    {
     "name": "stdout",
     "output_type": "stream",
     "text": [
      "{'Name': 'Abdullah', 'Roll No': 123}\n"
     ]
    }
   ],
   "source": [
    "#Dictionary\n",
    "print({\"Name\":\"Abdullah\",\"Roll No\":123})"
   ]
  },
  {
   "cell_type": "code",
   "execution_count": 14,
   "id": "e036c49a-c229-4132-995e-69f518c3d647",
   "metadata": {},
   "outputs": [
    {
     "name": "stdout",
     "output_type": "stream",
     "text": [
      "My name is Abdullah\n",
      "My name is Abdullah\n",
      "Abdullah\n"
     ]
    }
   ],
   "source": [
    "#string \n",
    "print('My name is Abdullah')\n",
    "print(\"My name is\"+\" \"+\"Abdullah\")\n",
    "print('''Abdullah''')"
   ]
  },
  {
   "cell_type": "code",
   "execution_count": 15,
   "id": "0be73abd-17bd-4060-9146-56c57517303b",
   "metadata": {},
   "outputs": [
    {
     "data": {
      "text/plain": [
       "int"
      ]
     },
     "execution_count": 15,
     "metadata": {},
     "output_type": "execute_result"
    }
   ],
   "source": [
    "\n",
    "type(123)\n"
   ]
  },
  {
   "cell_type": "code",
   "execution_count": 16,
   "id": "0902902e-1f07-43ca-bd19-f421484d5cbe",
   "metadata": {},
   "outputs": [
    {
     "data": {
      "text/plain": [
       "bool"
      ]
     },
     "execution_count": 16,
     "metadata": {},
     "output_type": "execute_result"
    }
   ],
   "source": [
    "type(True)"
   ]
  },
  {
   "cell_type": "code",
   "execution_count": 17,
   "id": "9fe20a2b-8668-4cae-a5d6-d31048fca63f",
   "metadata": {},
   "outputs": [
    {
     "data": {
      "text/plain": [
       "list"
      ]
     },
     "execution_count": 17,
     "metadata": {},
     "output_type": "execute_result"
    }
   ],
   "source": [
    "type([1,2,3,5])"
   ]
  },
  {
   "cell_type": "code",
   "execution_count": 18,
   "id": "d130a80e-0651-46e2-b385-0b5753ba79a5",
   "metadata": {},
   "outputs": [
    {
     "name": "stdout",
     "output_type": "stream",
     "text": [
      "353242342223423525225235235235\n"
     ]
    }
   ],
   "source": [
    "print(353242342223423525225235235235)"
   ]
  },
  {
   "cell_type": "code",
   "execution_count": 19,
   "id": "88b3ab2a-93d0-4de8-8288-e7c7abedf9df",
   "metadata": {},
   "outputs": [
    {
     "name": "stdout",
     "output_type": "stream",
     "text": [
      "inf\n"
     ]
    }
   ],
   "source": [
    "print(1e309)"
   ]
  },
  {
   "cell_type": "code",
   "execution_count": 20,
   "id": "0cecdd41-2e78-4533-9620-87f22453a575",
   "metadata": {},
   "outputs": [
    {
     "name": "stdout",
     "output_type": "stream",
     "text": [
      "inf\n"
     ]
    }
   ],
   "source": [
    "print(1.7e309)"
   ]
  },
  {
   "cell_type": "code",
   "execution_count": 21,
   "id": "2e39be55-c207-4c26-825c-3f217f3a82dd",
   "metadata": {},
   "outputs": [
    {
     "name": "stdout",
     "output_type": "stream",
     "text": [
      "126.56\n"
     ]
    }
   ],
   "source": [
    "print(123+3.56)"
   ]
  },
  {
   "cell_type": "code",
   "execution_count": 22,
   "id": "bd2bcbdc-8b2b-4036-8ec6-f87c42fe20d2",
   "metadata": {},
   "outputs": [
    {
     "name": "stdout",
     "output_type": "stream",
     "text": [
      "Hello\n"
     ]
    }
   ],
   "source": [
    "# Print Fuction\n",
    "\n",
    "print(\"Hello\")"
   ]
  },
  {
   "cell_type": "code",
   "execution_count": 23,
   "id": "868099c2-36ae-4e74-9487-425d5307e799",
   "metadata": {},
   "outputs": [
    {
     "name": "stdout",
     "output_type": "stream",
     "text": [
      "5\n",
      "6\n"
     ]
    }
   ],
   "source": [
    "name=5\n",
    "print(name)\n",
    "name=6\n",
    "print(name)\n",
    "\n"
   ]
  },
  {
   "cell_type": "code",
   "execution_count": 24,
   "id": "1859452e-d4ab-4ede-85ef-ce238b1b3d67",
   "metadata": {},
   "outputs": [
    {
     "name": "stdout",
     "output_type": "stream",
     "text": [
      "3\n",
      "5\n"
     ]
    }
   ],
   "source": [
    "n1=3\n",
    "n2=5\n",
    "\n",
    "print(n1)\n",
    "print(n2)"
   ]
  },
  {
   "cell_type": "code",
   "execution_count": 25,
   "id": "8b6b506f-b720-4a9a-ab9d-e8cb98c1f1ef",
   "metadata": {},
   "outputs": [
    {
     "name": "stdout",
     "output_type": "stream",
     "text": [
      "5 6 9\n"
     ]
    }
   ],
   "source": [
    "n1=5;n2=6;n3=9\n",
    "print(n1,n2,n3)"
   ]
  },
  {
   "cell_type": "code",
   "execution_count": 26,
   "id": "2d5f65ac-728f-4bfb-a0e3-702899f715f7",
   "metadata": {},
   "outputs": [
    {
     "name": "stdout",
     "output_type": "stream",
     "text": [
      "2 3 4\n"
     ]
    }
   ],
   "source": [
    "a,b,c=2,3,4\n",
    "print(a,b,c)"
   ]
  },
  {
   "cell_type": "code",
   "execution_count": 27,
   "id": "f40000cd-891c-45c8-84d9-ee647022808e",
   "metadata": {},
   "outputs": [
    {
     "name": "stdout",
     "output_type": "stream",
     "text": [
      "10 10 10\n",
      "11 11 11\n"
     ]
    }
   ],
   "source": [
    "a=10\n",
    "b=10\n",
    "c=10\n",
    "print(a,b,c)\n",
    "\n",
    "a=b=c=11\n",
    "print(a,b,c)"
   ]
  },
  {
   "cell_type": "code",
   "execution_count": 28,
   "id": "d4e20702-d48c-49b9-8e1a-52602031759c",
   "metadata": {},
   "outputs": [
    {
     "name": "stdout",
     "output_type": "stream",
     "text": [
      "['False', 'None', 'True', 'and', 'as', 'assert', 'async', 'await', 'break', 'class', 'continue', 'def', 'del', 'elif', 'else', 'except', 'finally', 'for', 'from', 'global', 'if', 'import', 'in', 'is', 'lambda', 'nonlocal', 'not', 'or', 'pass', 'raise', 'return', 'try', 'while', 'with', 'yield']\n"
     ]
    }
   ],
   "source": [
    "import keyword\n",
    "\n",
    "print(keyword.kwlist)"
   ]
  },
  {
   "cell_type": "code",
   "execution_count": 29,
   "id": "946b4bb2-d718-44dc-b394-d3e8af5296c6",
   "metadata": {},
   "outputs": [
    {
     "name": "stdout",
     "output_type": "stream",
     "text": [
      "Name\n"
     ]
    }
   ],
   "source": [
    "__=\"Name\"\n",
    "print(__)"
   ]
  },
  {
   "cell_type": "code",
   "execution_count": 30,
   "id": "772016af-3942-44d5-93ae-4e678a2be1dc",
   "metadata": {},
   "outputs": [
    {
     "ename": "SyntaxError",
     "evalue": "cannot assign to literal here. Maybe you meant '==' instead of '='? (3827742523.py, line 1)",
     "output_type": "error",
     "traceback": [
      "\u001b[1;36m  Cell \u001b[1;32mIn[30], line 1\u001b[1;36m\u001b[0m\n\u001b[1;33m    2=\"Name\"\u001b[0m\n\u001b[1;37m    ^\u001b[0m\n\u001b[1;31mSyntaxError\u001b[0m\u001b[1;31m:\u001b[0m cannot assign to literal here. Maybe you meant '==' instead of '='?\n"
     ]
    }
   ],
   "source": [
    "2=\"Name\"\n",
    "print(2)"
   ]
  },
  {
   "cell_type": "code",
   "execution_count": 31,
   "id": "dc4cf097-9381-44cd-9501-e0ce999c8449",
   "metadata": {},
   "outputs": [
    {
     "name": "stdout",
     "output_type": "stream",
     "text": [
      "Abdul\n"
     ]
    }
   ],
   "source": [
    "Abdul_='Abdul'\n",
    "print(Abdul_)"
   ]
  },
  {
   "cell_type": "code",
   "execution_count": 33,
   "id": "8fe04955-406e-4c9d-a332-3442aa260f58",
   "metadata": {},
   "outputs": [
    {
     "name": "stdin",
     "output_type": "stream",
     "text": [
      " 56\n"
     ]
    },
    {
     "data": {
      "text/plain": [
       "'56'"
      ]
     },
     "execution_count": 33,
     "metadata": {},
     "output_type": "execute_result"
    }
   ],
   "source": [
    "input()"
   ]
  },
  {
   "cell_type": "code",
   "execution_count": 45,
   "id": "115d9e13-06ac-490e-a064-6b2ae859f2b4",
   "metadata": {},
   "outputs": [
    {
     "name": "stdin",
     "output_type": "stream",
     "text": [
      "Name:  34.6\n"
     ]
    },
    {
     "name": "stdout",
     "output_type": "stream",
     "text": [
      "34.6\n",
      "<class 'float'>\n"
     ]
    }
   ],
   "source": [
    "name=float(input(\"Name: \"))\n",
    "\n",
    "\n",
    "print(name)\n",
    "print(type(name))"
   ]
  },
  {
   "cell_type": "code",
   "execution_count": 47,
   "id": "273845d3-cb73-43d1-9cb6-6a4feac9c0f9",
   "metadata": {},
   "outputs": [
    {
     "name": "stdin",
     "output_type": "stream",
     "text": [
      "Enter Number 1:  45\n",
      "Enter Number 2:  45\n"
     ]
    },
    {
     "name": "stdout",
     "output_type": "stream",
     "text": [
      "90\n"
     ]
    }
   ],
   "source": [
    "num1=int(input(\"Enter Number 1: \"))\n",
    "num2=int(input(\"Enter Number 2: \"))\n",
    "\n",
    "result=num1+num2\n",
    "print(result)"
   ]
  },
  {
   "cell_type": "code",
   "execution_count": null,
   "id": "ac7133cb-9e5f-4161-b3a8-8cd1bf4b2f37",
   "metadata": {},
   "outputs": [],
   "source": []
  }
 ],
 "metadata": {
  "kernelspec": {
   "display_name": "Python 3 (ipykernel)",
   "language": "python",
   "name": "python3"
  },
  "language_info": {
   "codemirror_mode": {
    "name": "ipython",
    "version": 3
   },
   "file_extension": ".py",
   "mimetype": "text/x-python",
   "name": "python",
   "nbconvert_exporter": "python",
   "pygments_lexer": "ipython3",
   "version": "3.12.7"
  }
 },
 "nbformat": 4,
 "nbformat_minor": 5
}
