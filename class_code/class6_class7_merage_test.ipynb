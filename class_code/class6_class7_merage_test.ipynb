{
  "cells": [
    {
      "cell_type": "markdown",
      "metadata": {
        "id": "Go7iT_EdaF8Z"
      },
      "source": [
        "# Functions\n",
        "\n",
        "A block of code or a black box that have some code inside that have some usage purpose\n",
        "##Benifits:\n",
        "1. Every code is self contained and use to break up the entire login into pieces(Modularity).\n",
        "2. Works on philosophy of write once use forever! (Reusability).\n",
        "3. Code is well organized. (Readability).\n",
        "\n",
        "## Properties\n",
        "\n",
        "### 1. Abstraction:\n",
        "Hiding the internal details of how a task is performed and only showing a simple interface to the user, so the user can use the function without worrying about its internal complexity.\n",
        "\n",
        "### 2. Decomposition:\n",
        "Breaking a large and complex problem into smaller, manageable functions, where each function handles a specific task, making the program more organized, reusable, and easier to maintain.\n",
        "\n",
        "\n",
        "\n"
      ]
    },
    {
      "cell_type": "code",
      "execution_count": null,
      "metadata": {
        "colab": {
          "base_uri": "https://localhost:8080/",
          "height": 35
        },
        "id": "X7apZLyjZsQx",
        "outputId": "7d0c2a42-7d62-4577-d3ef-c64e734f3387"
      },
      "outputs": [
        {
          "data": {
            "application/vnd.google.colaboratory.intrinsic+json": {
              "type": "string"
            },
            "text/plain": [
              "'\\nfunction_name(Arguments) \\n'"
            ]
          },
          "execution_count": 8,
          "metadata": {},
          "output_type": "execute_result"
        }
      ],
      "source": [
        "#syntax\n",
        "\n",
        "'''\n",
        "def function_name(Parameters):\n",
        "\n",
        "  function doc (reading manual)\n",
        "  function work and Logic\n",
        "  return outputs\n",
        "\n",
        "  '''\n",
        "\n",
        "# Calling function\n",
        "'''\n",
        "function_name(Arguments)\n",
        "'''"
      ]
    },
    {
      "cell_type": "code",
      "execution_count": null,
      "metadata": {
        "id": "Fr3snacKzt49"
      },
      "outputs": [],
      "source": [
        "#Example:  Make Funtion\n",
        "def is_even(num):\n",
        "  '''\n",
        "  Function gives odd or even\n",
        "  input : valid integer\n",
        "  output : odd or even\n",
        "  created by : Abdul Rehman\n",
        "  Last Edit : 28-8-25\n",
        "  '''\n",
        "\n",
        "  if num%2==0:\n",
        "    return 'Even'\n",
        "  else:\n",
        "    return 'Odd'\n"
      ]
    },
    {
      "cell_type": "code",
      "execution_count": null,
      "metadata": {
        "colab": {
          "base_uri": "https://localhost:8080/",
          "height": 35
        },
        "id": "KsWna2dn1_zG",
        "outputId": "53dfdd3a-25c2-4868-b94d-fd3ce98a5e83"
      },
      "outputs": [
        {
          "data": {
            "application/vnd.google.colaboratory.intrinsic+json": {
              "type": "string"
            },
            "text/plain": [
              "'Even'"
            ]
          },
          "execution_count": 10,
          "metadata": {},
          "output_type": "execute_result"
        }
      ],
      "source": [
        "#calling function\n",
        "is_even(6)"
      ]
    },
    {
      "cell_type": "code",
      "execution_count": null,
      "metadata": {
        "colab": {
          "base_uri": "https://localhost:8080/"
        },
        "id": "1lClgJTe2HhL",
        "outputId": "fe7cda08-d9bb-4f42-bbaf-0a883b9d8127"
      },
      "outputs": [
        {
          "name": "stdout",
          "output_type": "stream",
          "text": [
            "Even\n",
            "Odd\n",
            "Even\n",
            "Odd\n",
            "Even\n",
            "Odd\n",
            "Even\n",
            "Odd\n",
            "Even\n",
            "Odd\n"
          ]
        }
      ],
      "source": [
        "#calling function with loop\n",
        "for i in range(10):\n",
        "  print(is_even(i))"
      ]
    },
    {
      "cell_type": "code",
      "execution_count": null,
      "metadata": {
        "colab": {
          "base_uri": "https://localhost:8080/",
          "height": 35
        },
        "id": "zcCv5RGe2ayE",
        "outputId": "dbf848e5-f62d-4fb7-aad1-28db276f2c21"
      },
      "outputs": [
        {
          "data": {
            "application/vnd.google.colaboratory.intrinsic+json": {
              "type": "string"
            },
            "text/plain": [
              "'\\n  Function gives odd or even\\n  input : valid integer\\n  output : odd or even\\n  created by : Abdul Rehman\\n  Last Edit : 28-8-25\\n  '"
            ]
          },
          "execution_count": 7,
          "metadata": {},
          "output_type": "execute_result"
        }
      ],
      "source": [
        "# Calling fuction doc\n",
        "is_even.__doc__"
      ]
    },
    {
      "cell_type": "markdown",
      "metadata": {
        "id": "GsHGe6iK7wYq"
      },
      "source": [
        "#### Difference between return and print\n",
        "\n",
        "#####1. print\n",
        "simply displays the output on the screen. It doesn’t give anything back to the program. Once printed, the value cannot be reused by other parts of the code.\n",
        "\n",
        "#####2. return\n",
        "Gives the result back to the caller of the function. The returned value can be stored in a variable, reused, or passed to another function. It makes functions more flexible and powerful.\n",
        "\n",
        "#### Why do we use return more in functions?\n",
        "\n",
        "Because functions are usually written to perform a task and give back a result that can be used later in the program. **return** makes the function reusable, testable, and usable in larger programs, that's why return in functions."
      ]
    },
    {
      "cell_type": "markdown",
      "metadata": {
        "id": "TJ6n6bLh9Aur"
      },
      "source": [
        "#### Difference between Parameter & Argument\n",
        "\n",
        "* Parameter is a place holder (variable).\n",
        "* Argument is an actual value pass through the function when call.\n",
        "\n",
        "\n",
        "###Arguments\n",
        "\n",
        "1.   Default Arguments\n",
        "2.   Positional Arguments\n",
        "3.   Keyword Arguments\n",
        "4.   Arbitrary Arguments\n",
        "\n"
      ]
    },
    {
      "cell_type": "code",
      "execution_count": null,
      "metadata": {
        "id": "cmuV8svz2mMi"
      },
      "outputs": [],
      "source": [
        "def power(a,b):\n",
        "  return a**b"
      ]
    },
    {
      "cell_type": "code",
      "execution_count": null,
      "metadata": {
        "colab": {
          "base_uri": "https://localhost:8080/"
        },
        "id": "dNv39qh9_IOy",
        "outputId": "3eaea1c3-997c-4fe4-c041-25176967aaaa"
      },
      "outputs": [
        {
          "data": {
            "text/plain": [
              "15625"
            ]
          },
          "execution_count": 13,
          "metadata": {},
          "output_type": "execute_result"
        }
      ],
      "source": [
        "power(5,6)"
      ]
    },
    {
      "cell_type": "code",
      "execution_count": null,
      "metadata": {
        "colab": {
          "base_uri": "https://localhost:8080/",
          "height": 159
        },
        "id": "w5tEcE3L_LI8",
        "outputId": "cd24e843-e6c8-4179-b3f2-be6efd165cd7"
      },
      "outputs": [
        {
          "ename": "TypeError",
          "evalue": "power() missing 1 required positional argument: 'b'",
          "output_type": "error",
          "traceback": [
            "\u001b[0;31m---------------------------------------------------------------------------\u001b[0m",
            "\u001b[0;31mTypeError\u001b[0m                                 Traceback (most recent call last)",
            "\u001b[0;32m/tmp/ipython-input-1055399561.py\u001b[0m in \u001b[0;36m<cell line: 0>\u001b[0;34m()\u001b[0m\n\u001b[1;32m      1\u001b[0m \u001b[0;31m# crashing function because of one argment\u001b[0m\u001b[0;34m\u001b[0m\u001b[0;34m\u001b[0m\u001b[0m\n\u001b[0;32m----> 2\u001b[0;31m \u001b[0mpower\u001b[0m\u001b[0;34m(\u001b[0m\u001b[0;36m5\u001b[0m\u001b[0;34m)\u001b[0m\u001b[0;34m\u001b[0m\u001b[0;34m\u001b[0m\u001b[0m\n\u001b[0m",
            "\u001b[0;31mTypeError\u001b[0m: power() missing 1 required positional argument: 'b'"
          ]
        }
      ],
      "source": [
        "# crashing function because of one argment\n",
        "power(5)\n"
      ]
    },
    {
      "cell_type": "markdown",
      "metadata": {
        "id": "h6zst2fiABUN"
      },
      "source": [
        "**Note:** The best practise is to make function that avoid the crashing, To avoid crashing, use default argument concept"
      ]
    },
    {
      "cell_type": "code",
      "execution_count": null,
      "metadata": {
        "id": "5j_Xus_C_T7h"
      },
      "outputs": [],
      "source": [
        "# Default Argument ----> A parameter that takes a pre-defined value if no value is provided by the caller when the function is called.\n",
        "\n",
        "def power (a=1,b=1):\n",
        "  return a**b"
      ]
    },
    {
      "cell_type": "code",
      "execution_count": null,
      "metadata": {
        "colab": {
          "base_uri": "https://localhost:8080/"
        },
        "id": "g8RxqFmjAf-J",
        "outputId": "b6b8a6b1-005e-48ee-8b9b-d595cac0a249"
      },
      "outputs": [
        {
          "data": {
            "text/plain": [
              "16"
            ]
          },
          "execution_count": 21,
          "metadata": {},
          "output_type": "execute_result"
        }
      ],
      "source": [
        "power(2,4)"
      ]
    },
    {
      "cell_type": "code",
      "execution_count": null,
      "metadata": {
        "colab": {
          "base_uri": "https://localhost:8080/"
        },
        "id": "020bZkLhAjaX",
        "outputId": "4b8c2618-1cf8-4241-e657-55637bc59ead"
      },
      "outputs": [
        {
          "data": {
            "text/plain": [
              "4"
            ]
          },
          "execution_count": 22,
          "metadata": {},
          "output_type": "execute_result"
        }
      ],
      "source": [
        "power(4) # Now not making error because of default argument"
      ]
    },
    {
      "cell_type": "code",
      "execution_count": null,
      "metadata": {
        "id": "YOp7yR2LBMBj"
      },
      "outputs": [],
      "source": [
        "def greet(name='Guest'):\n",
        "  print(f'Hello {name}')"
      ]
    },
    {
      "cell_type": "code",
      "execution_count": null,
      "metadata": {
        "colab": {
          "base_uri": "https://localhost:8080/"
        },
        "id": "n9IbARf9BPE3",
        "outputId": "c7f296e3-f504-4a7f-be35-dd04546cd2a7"
      },
      "outputs": [
        {
          "name": "stdout",
          "output_type": "stream",
          "text": [
            "Hello Abdul\n"
          ]
        }
      ],
      "source": [
        "greet(\"Abdul\")"
      ]
    },
    {
      "cell_type": "code",
      "execution_count": null,
      "metadata": {
        "colab": {
          "base_uri": "https://localhost:8080/"
        },
        "id": "ZoiTqqcXAlvH",
        "outputId": "386b8883-9e45-44ee-d871-6e25a3e35774"
      },
      "outputs": [
        {
          "name": "stdout",
          "output_type": "stream",
          "text": [
            "8\n"
          ]
        }
      ],
      "source": [
        "# Positional Argument -----> It is argument that is passed to a function in the same order as the parameters are defined in the function.\n",
        "\n",
        "# Here a=2 , because given argument(2) is on the first position that is for parameter(a), similarly argument(3) for parameter(b).\n",
        "#Which shows the proper position of both arguments.\n",
        "print(power (2,3))\n"
      ]
    },
    {
      "cell_type": "code",
      "execution_count": null,
      "metadata": {
        "colab": {
          "base_uri": "https://localhost:8080/"
        },
        "id": "dGwN6w13CprX",
        "outputId": "131e80f2-1469-4161-d432-05d99a4a1170"
      },
      "outputs": [
        {
          "name": "stdout",
          "output_type": "stream",
          "text": [
            "9\n"
          ]
        }
      ],
      "source": [
        "# Keyword Arguments -----> It is an argument that is passed to a function by explicitly mentioning the parameter name along with its value, so the order of arguments doesn’t matter.\n",
        "print(power(b=2,a=3))"
      ]
    },
    {
      "cell_type": "code",
      "execution_count": null,
      "metadata": {
        "id": "mFH7kXm6D9ZU"
      },
      "outputs": [],
      "source": [
        "# Arbitrary Argumnts\n",
        "\n",
        "# 1. Arbitrary Positional Argumnts ----> A function that accept any number of positional arguments without defining them in advance. These arguments are collected into a tuple.\n",
        "\n",
        "def flexible (*number):   # python convert it into tuple when it think tht the multiple inputs are coming\n",
        "  product=1\n",
        "  print(number)\n",
        "  print(type(number))\n",
        "  for i in number:\n",
        "    product=product*i\n",
        "  print(product)"
      ]
    },
    {
      "cell_type": "code",
      "execution_count": null,
      "metadata": {
        "colab": {
          "base_uri": "https://localhost:8080/"
        },
        "id": "2GR9koTRE1SP",
        "outputId": "faf91d56-3531-4a58-df0d-559e22d5b2ad"
      },
      "outputs": [
        {
          "output_type": "stream",
          "name": "stdout",
          "text": [
            "(1, 2, 3)\n",
            "<class 'tuple'>\n",
            "6\n",
            "None\n"
          ]
        }
      ],
      "source": [
        "print(flexible(1,2,3))"
      ]
    },
    {
      "cell_type": "code",
      "execution_count": null,
      "metadata": {
        "id": "7r-QwC3LFFkF"
      },
      "outputs": [],
      "source": [
        "# 2. Arbitrary Keyword Argumnts ----> A function that accept any number of Keyword arguments without defining them in advance. These arguments are collected into a dictionary.\n",
        "\n",
        "def student_info(**info):\n",
        "  print(info)\n",
        "  print(type(info))\n",
        "  for key,vaulue in info.items():\n",
        "    print(f\"{key} : {vaulue}\")"
      ]
    },
    {
      "cell_type": "code",
      "execution_count": null,
      "metadata": {
        "colab": {
          "base_uri": "https://localhost:8080/"
        },
        "id": "6RH1wkHuMRVr",
        "outputId": "46594daa-fea4-4714-a751-b8f448088143"
      },
      "outputs": [
        {
          "output_type": "stream",
          "name": "stdout",
          "text": [
            "{'name': 'Abdul Rehman', 'Roll_No': 1020}\n",
            "<class 'dict'>\n",
            "name : Abdul Rehman\n",
            "Roll_No : 1020\n",
            "None\n"
          ]
        }
      ],
      "source": [
        "print(student_info(name=\"Abdul Rehman\", Roll_No= 1020,  ))"
      ]
    },
    {
      "cell_type": "markdown",
      "source": [
        "### Functions As Objects"
      ],
      "metadata": {
        "id": "6CvRfTH2cEXT"
      }
    },
    {
      "cell_type": "code",
      "source": [
        "def f(num):\n",
        "  return num**2"
      ],
      "metadata": {
        "id": "_AoMOxx9ZhpY"
      },
      "execution_count": null,
      "outputs": []
    },
    {
      "cell_type": "code",
      "source": [
        "f(4)"
      ],
      "metadata": {
        "colab": {
          "base_uri": "https://localhost:8080/"
        },
        "id": "y9zIlemkccsY",
        "outputId": "293fc97d-e878-4236-e953-e1dcad48a512"
      },
      "execution_count": null,
      "outputs": [
        {
          "output_type": "execute_result",
          "data": {
            "text/plain": [
              "16"
            ]
          },
          "metadata": {},
          "execution_count": 75
        }
      ]
    },
    {
      "cell_type": "code",
      "source": [
        "# Renaming function\n",
        "\n",
        "#functions behave as a data tye in python.They can objects like integer or other data types so it can be safe in another variable as an object\n",
        "x=f\n",
        "\n",
        "print(x(2))\n",
        "print(x(4))"
      ],
      "metadata": {
        "colab": {
          "base_uri": "https://localhost:8080/"
        },
        "id": "rXBmNG56cekS",
        "outputId": "60be4b56-7cf6-4a4f-c895-e6b738a5e13d"
      },
      "execution_count": null,
      "outputs": [
        {
          "output_type": "stream",
          "name": "stdout",
          "text": [
            "4\n",
            "16\n"
          ]
        }
      ]
    },
    {
      "cell_type": "code",
      "source": [
        "# Deleting function\n",
        "#It is already stored in x\n",
        "del f\n",
        "\n",
        "print(f(2))"
      ],
      "metadata": {
        "colab": {
          "base_uri": "https://localhost:8080/",
          "height": 193
        },
        "id": "LHjOkUtGc0st",
        "outputId": "4bdfdddc-250a-453b-fe3d-c84cf623b425"
      },
      "execution_count": null,
      "outputs": [
        {
          "output_type": "error",
          "ename": "NameError",
          "evalue": "name 'f' is not defined",
          "traceback": [
            "\u001b[0;31m---------------------------------------------------------------------------\u001b[0m",
            "\u001b[0;31mNameError\u001b[0m                                 Traceback (most recent call last)",
            "\u001b[0;32m/tmp/ipython-input-1932582923.py\u001b[0m in \u001b[0;36m<cell line: 0>\u001b[0;34m()\u001b[0m\n\u001b[1;32m      1\u001b[0m \u001b[0;31m# Deleted function but it is also stored in x\u001b[0m\u001b[0;34m\u001b[0m\u001b[0;34m\u001b[0m\u001b[0m\n\u001b[0;32m----> 2\u001b[0;31m \u001b[0;32mdel\u001b[0m \u001b[0mf\u001b[0m\u001b[0;34m\u001b[0m\u001b[0;34m\u001b[0m\u001b[0m\n\u001b[0m\u001b[1;32m      3\u001b[0m \u001b[0;34m\u001b[0m\u001b[0m\n\u001b[1;32m      4\u001b[0m \u001b[0mprint\u001b[0m\u001b[0;34m(\u001b[0m\u001b[0mf\u001b[0m\u001b[0;34m(\u001b[0m\u001b[0;36m2\u001b[0m\u001b[0;34m)\u001b[0m\u001b[0;34m)\u001b[0m\u001b[0;34m\u001b[0m\u001b[0;34m\u001b[0m\u001b[0m\n",
            "\u001b[0;31mNameError\u001b[0m: name 'f' is not defined"
          ]
        }
      ]
    },
    {
      "cell_type": "code",
      "source": [
        "print(x(7))\n",
        "\n",
        "print(type(x))"
      ],
      "metadata": {
        "colab": {
          "base_uri": "https://localhost:8080/"
        },
        "id": "oBDe7vCCdHIT",
        "outputId": "eda271f7-6440-42bc-d692-913feba1075b"
      },
      "execution_count": null,
      "outputs": [
        {
          "output_type": "stream",
          "name": "stdout",
          "text": [
            "49\n",
            "<class 'function'>\n"
          ]
        }
      ]
    },
    {
      "cell_type": "code",
      "source": [
        "#Sorting function object in list\n",
        "l=[1,2,3,4,x]\n",
        "print(l)"
      ],
      "metadata": {
        "colab": {
          "base_uri": "https://localhost:8080/"
        },
        "id": "WUO7w23UdKPf",
        "outputId": "ca0e8421-61dc-4b2b-92f5-0b87e9f3f8f3"
      },
      "execution_count": null,
      "outputs": [
        {
          "output_type": "stream",
          "name": "stdout",
          "text": [
            "[1, 2, 3, 4, <function f at 0x78677a5ece00>]\n"
          ]
        }
      ]
    },
    {
      "cell_type": "code",
      "source": [
        "# input value to x which behaving as a function\n",
        "l[-1](3)"
      ],
      "metadata": {
        "colab": {
          "base_uri": "https://localhost:8080/"
        },
        "id": "m61onnondhZn",
        "outputId": "34fcc3e9-14f5-4953-dc0b-367feb93719f"
      },
      "execution_count": null,
      "outputs": [
        {
          "output_type": "execute_result",
          "data": {
            "text/plain": [
              "9"
            ]
          },
          "metadata": {},
          "execution_count": 87
        }
      ]
    },
    {
      "cell_type": "code",
      "source": [
        "#similarly\n",
        "l=[1,2,3,4,x(5)]\n",
        "print(l)"
      ],
      "metadata": {
        "colab": {
          "base_uri": "https://localhost:8080/"
        },
        "id": "5FL0uok3dz6L",
        "outputId": "459e7885-7367-43ef-e2a0-3bf7625e2183"
      },
      "execution_count": null,
      "outputs": [
        {
          "output_type": "stream",
          "name": "stdout",
          "text": [
            "[1, 2, 3, 4, 25]\n"
          ]
        }
      ]
    },
    {
      "cell_type": "markdown",
      "source": [
        "# Exercises"
      ],
      "metadata": {
        "id": "hV6xSyOGkIBY"
      }
    },
    {
      "cell_type": "code",
      "source": [
        "def mean(arr):\n",
        "    total=0\n",
        "    for val in arr:\n",
        "        total=total+val\n",
        "    return total/len(arr)\n",
        "\n",
        "mean([1,2,3,4,5])"
      ],
      "metadata": {
        "colab": {
          "base_uri": "https://localhost:8080/"
        },
        "id": "9IjXXBYXeQiO",
        "outputId": "7a8026c1-e922-4a35-bf92-bf6b3210a305"
      },
      "execution_count": null,
      "outputs": [
        {
          "output_type": "execute_result",
          "data": {
            "text/plain": [
              "3.0"
            ]
          },
          "metadata": {},
          "execution_count": 97
        }
      ]
    },
    {
      "cell_type": "code",
      "source": [
        "def data(name,roll_no,marks,grade):\n",
        "    print(f\"\"\"Name:{name}\n",
        "Roll Number:{roll_no}\n",
        "Marks:{marks}\n",
        "Grade:{grade}\"\"\")\n",
        "\n",
        "data('Abdul Rehman',1070,87,'A+')"
      ],
      "metadata": {
        "colab": {
          "base_uri": "https://localhost:8080/"
        },
        "id": "2V1tcFqCjlbU",
        "outputId": "11b8eb93-26d2-4178-8ee9-7ea7a17d49bd"
      },
      "execution_count": null,
      "outputs": [
        {
          "output_type": "stream",
          "name": "stdout",
          "text": [
            "Name:Abdul Rehman\n",
            "Roll Number:1070\n",
            "Marks:87\n",
            "Grade:A+\n"
          ]
        }
      ]
    },
    {
      "cell_type": "code",
      "source": [
        "def para(text):\n",
        "    print(text.lower())\n",
        "\n",
        "    print(text.capitalize())\n",
        "\n",
        "para('My name is Abdul Rehman')"
      ],
      "metadata": {
        "colab": {
          "base_uri": "https://localhost:8080/"
        },
        "id": "zV4VlmKajm7E",
        "outputId": "741c40ba-4314-4408-9407-5697a5e0477e"
      },
      "execution_count": null,
      "outputs": [
        {
          "output_type": "stream",
          "name": "stdout",
          "text": [
            "my name is abdul rehman\n",
            "My name is abdul rehman\n"
          ]
        }
      ]
    },
    {
      "cell_type": "code",
      "source": [
        "def min_max(arr):\n",
        "    print(min(arr),max(arr))\n",
        "\n",
        "min_max([2,5,6,7,4,9])"
      ],
      "metadata": {
        "colab": {
          "base_uri": "https://localhost:8080/"
        },
        "id": "B20LIP1-kDZI",
        "outputId": "c873ee33-0e47-446a-bd58-cdbc2e729791"
      },
      "execution_count": null,
      "outputs": [
        {
          "output_type": "stream",
          "name": "stdout",
          "text": [
            "2 9\n"
          ]
        }
      ]
    },
    {
      "cell_type": "code",
      "source": [
        "# Calculator\n",
        "\n",
        "def calculator(arr,task=''):\n",
        "    #add,sub,mul,div,sqr,avg,even,odd\n",
        "    if task=='add':\n",
        "        total=0\n",
        "        for add in arr:\n",
        "            total=total+add\n",
        "        return total\n",
        "\n",
        "    elif task=='sub':\n",
        "        total=0\n",
        "        for sub in arr:\n",
        "            total=sub-total #[2,3,4,5,6,7]\n",
        "        return total\n",
        "\n",
        "    elif task=='mul':\n",
        "        total=1\n",
        "        for mul in arr:\n",
        "            total=total*mul\n",
        "        return total\n",
        "\n",
        "    elif task=='div':\n",
        "        total=1\n",
        "        for div in arr:\n",
        "            total=div/total\n",
        "        return total\n",
        "\n",
        "    elif task=='exponent':\n",
        "        power=int(input(\"Enter a power\"))\n",
        "        return [sqr**power for sqr in arr]\n",
        "\n",
        "    elif task=='avg':\n",
        "        total=0\n",
        "        for avg in arr:\n",
        "            total=total+avg\n",
        "        return total/len(arr)\n",
        "\n",
        "    elif task=='even':\n",
        "        evenlist=[]\n",
        "        for even in arr:\n",
        "            if even%2==0:\n",
        "                evenlist.append(even)\n",
        "        return evenlist\n",
        "\n",
        "    elif task=='odd':\n",
        "        oddlist=[]\n",
        "        for odd in arr:\n",
        "            if odd%2==1:\n",
        "                oddlist.append(odd)\n",
        "        return oddlist\n",
        "\n",
        "\n",
        "    else:\n",
        "        return arr\n"
      ],
      "metadata": {
        "id": "ql9fW473kWr-"
      },
      "execution_count": null,
      "outputs": []
    },
    {
      "cell_type": "code",
      "source": [
        "print(calculator([2,3,4,5,6,7],'add'))\n",
        "print(calculator([2,3,4,5,6],'sub'))\n",
        "print(calculator([2,3,4,5,6,7],'mul'))\n",
        "print(calculator([2,3,5,6,],'div'))\n",
        "print(calculator([2,3,4,5,6,7],'exponent'))\n",
        "print(calculator([2,3,4,5,6,7],'avg'))\n",
        "print(calculator([2,3,4,5,6,7],'odd'))\n",
        "print(calculator([2,3,4,5,6,7]))\n"
      ],
      "metadata": {
        "colab": {
          "base_uri": "https://localhost:8080/"
        },
        "id": "Wd9GiGblkpBi",
        "outputId": "314325d8-b4db-429e-88d6-52609610c926"
      },
      "execution_count": null,
      "outputs": [
        {
          "output_type": "stream",
          "name": "stdout",
          "text": [
            "27\n",
            "4\n",
            "5040\n",
            "1.7999999999999998\n",
            "Enter a power4\n",
            "[16, 81, 256, 625, 1296, 2401]\n",
            "4.5\n",
            "[3, 5, 7]\n",
            "[2, 3, 4, 5, 6, 7]\n"
          ]
        }
      ]
    },
    {
      "cell_type": "code",
      "source": [
        "names={'Abdullah','Abdul Rehman','Ameen','Aman','Ali','Owais'}\n",
        "\n",
        "def person_name():\n",
        "    for name in names:\n",
        "        print(name)\n",
        "\n",
        "person_name()"
      ],
      "metadata": {
        "colab": {
          "base_uri": "https://localhost:8080/"
        },
        "id": "Srhjs_6Fmudq",
        "outputId": "919eaedb-aa10-4e17-8911-53819eff4f46"
      },
      "execution_count": null,
      "outputs": [
        {
          "output_type": "stream",
          "name": "stdout",
          "text": [
            "Abdullah\n",
            "Aman\n",
            "Owais\n",
            "Ameen\n",
            "Abdul Rehman\n",
            "Ali\n"
          ]
        }
      ]
    },
    {
      "cell_type": "code",
      "source": [
        "def build_person(first_name,last_name,age=''):\n",
        "    person={\"First name\":first_name,\"Last_name\":last_name}\n",
        "    if age:\n",
        "        person['age']=age\n",
        "    return person\n",
        "\n",
        "build_person('Abdul','Rehman','20')"
      ],
      "metadata": {
        "colab": {
          "base_uri": "https://localhost:8080/"
        },
        "id": "oRIKvEU0licR",
        "outputId": "0e47b508-233d-46e7-e926-c5b2b638d2cf"
      },
      "execution_count": null,
      "outputs": [
        {
          "output_type": "execute_result",
          "data": {
            "text/plain": [
              "{'First name': 'Abdul', 'Last_name': 'Rehman', 'age': '20'}"
            ]
          },
          "metadata": {},
          "execution_count": 117
        }
      ]
    },
    {
      "cell_type": "code",
      "source": [
        "build=build_person('Abdullah','Zeeshan',16)\n",
        "print(build)"
      ],
      "metadata": {
        "colab": {
          "base_uri": "https://localhost:8080/"
        },
        "id": "Wlkz-tbNlsPQ",
        "outputId": "d7f1af8e-834f-4a78-81df-7eb6c28194fe"
      },
      "execution_count": null,
      "outputs": [
        {
          "output_type": "stream",
          "name": "stdout",
          "text": [
            "{'First name': 'Abdullah', 'Last_name': 'Zeeshan', 'age': 16}\n"
          ]
        }
      ]
    },
    {
      "cell_type": "code",
      "source": [
        "def pizza(*toppings):\n",
        "    for top in toppings:\n",
        "        print(top)\n",
        "\n",
        "pizza('pappareno','double chees')\n",
        "pizza('extra chicken')"
      ],
      "metadata": {
        "colab": {
          "base_uri": "https://localhost:8080/"
        },
        "id": "nEd3050Rl0vk",
        "outputId": "2717972a-2513-421e-a32c-42b0241cb244"
      },
      "execution_count": null,
      "outputs": [
        {
          "output_type": "stream",
          "name": "stdout",
          "text": [
            "pappareno\n",
            "double chees\n",
            "extra chicken\n"
          ]
        }
      ]
    },
    {
      "cell_type": "code",
      "source": [
        "def build_profile(first,last,**user_profile):\n",
        "    profile={}\n",
        "    profile['First name']=first\n",
        "    profile['Last name']=last\n",
        "\n",
        "    for key,value in user_profile.items():\n",
        "        profile[key]=value\n",
        "\n",
        "\n",
        "    return profile\n"
      ],
      "metadata": {
        "id": "fwkaUzyImDqm"
      },
      "execution_count": null,
      "outputs": []
    },
    {
      "cell_type": "code",
      "source": [
        "build_profile('Abdul','Rehman')"
      ],
      "metadata": {
        "colab": {
          "base_uri": "https://localhost:8080/"
        },
        "id": "2MJf3Kd-mQUG",
        "outputId": "dae6b751-7125-4bc0-aebd-0aa7ff1229b2"
      },
      "execution_count": null,
      "outputs": [
        {
          "output_type": "execute_result",
          "data": {
            "text/plain": [
              "{'First name': 'Abdul', 'Last name': 'Rehman'}"
            ]
          },
          "metadata": {},
          "execution_count": 9
        }
      ]
    },
    {
      "cell_type": "code",
      "source": [
        "build_profile('Abdul','Rehman',education='Graduation',University='FAUUST')"
      ],
      "metadata": {
        "colab": {
          "base_uri": "https://localhost:8080/"
        },
        "id": "lg6K9ud0mQ2s",
        "outputId": "7f51610a-002b-4785-9354-b8438c2ba929"
      },
      "execution_count": null,
      "outputs": [
        {
          "output_type": "execute_result",
          "data": {
            "text/plain": [
              "{'First name': 'Abdul',\n",
              " 'Last name': 'Rehman',\n",
              " 'education': 'Graduation',\n",
              " 'University': 'FAUUST'}"
            ]
          },
          "metadata": {},
          "execution_count": 123
        }
      ]
    },
    {
      "cell_type": "markdown",
      "source": [
        "# Lambda Functions:\n",
        "Lambda functions are the functions are the anonmous function that haven't any name. These functions always written in the one line, that not spin on multiple lines"
      ],
      "metadata": {
        "id": "I499VyGAcA5D"
      }
    },
    {
      "cell_type": "code",
      "source": [
        "#syntax\n",
        "\n",
        "'''lambda input : rest code expression'''"
      ],
      "metadata": {
        "id": "TKf625IVmSsG",
        "colab": {
          "base_uri": "https://localhost:8080/",
          "height": 36
        },
        "outputId": "8affd0c3-3619-4e01-f699-df55b0a4e671"
      },
      "execution_count": null,
      "outputs": [
        {
          "output_type": "execute_result",
          "data": {
            "text/plain": [
              "'lambda input : rest code expression'"
            ],
            "application/vnd.google.colaboratory.intrinsic+json": {
              "type": "string"
            }
          },
          "metadata": {},
          "execution_count": 1
        }
      ]
    },
    {
      "cell_type": "code",
      "source": [
        "#Examlpe\n",
        "x=lambda x: x**2\n",
        "\n",
        "x(9)"
      ],
      "metadata": {
        "colab": {
          "base_uri": "https://localhost:8080/"
        },
        "id": "824M2Dh8cvrG",
        "outputId": "298ca39b-c757-48ca-e0e2-c29438ff06a7"
      },
      "execution_count": null,
      "outputs": [
        {
          "output_type": "execute_result",
          "data": {
            "text/plain": [
              "81"
            ]
          },
          "metadata": {},
          "execution_count": 3
        }
      ]
    },
    {
      "cell_type": "code",
      "source": [
        "a= lambda x,y :x+y\n",
        "print(a(4,7))\n",
        "type(a)"
      ],
      "metadata": {
        "colab": {
          "base_uri": "https://localhost:8080/"
        },
        "id": "hK6qNO3ndECh",
        "outputId": "6bb81080-2e47-4b95-da94-4e3eb7347275"
      },
      "execution_count": null,
      "outputs": [
        {
          "output_type": "stream",
          "name": "stdout",
          "text": [
            "11\n"
          ]
        },
        {
          "output_type": "execute_result",
          "data": {
            "text/plain": [
              "function"
            ]
          },
          "metadata": {},
          "execution_count": 7
        }
      ]
    },
    {
      "cell_type": "markdown",
      "source": [
        "### Difference between normal functions & Lambda functions\n",
        "\n",
        "1. Lambda has no return value like normal function.\n",
        "2. Lambda function consist only one line while normal function take multiple lines.\n",
        "3. Lambda function haven't any name.  "
      ],
      "metadata": {
        "id": "vaUUAc6ddgsg"
      }
    },
    {
      "cell_type": "code",
      "source": [
        "a=lambda x: x[0]==\"a\"\n",
        "\n",
        "print(a(\"apple\"))\n",
        "print(a('banana'))"
      ],
      "metadata": {
        "colab": {
          "base_uri": "https://localhost:8080/"
        },
        "id": "fAVDAXvPdaI9",
        "outputId": "0beb1173-c65c-43db-e6fe-d2dabd4908b0"
      },
      "execution_count": null,
      "outputs": [
        {
          "output_type": "stream",
          "name": "stdout",
          "text": [
            "True\n",
            "False\n"
          ]
        }
      ]
    },
    {
      "cell_type": "code",
      "source": [
        "a=lambda x: print(\"Even\") if x%2==0  else print(\"Odd\")\n",
        "a(6)"
      ],
      "metadata": {
        "colab": {
          "base_uri": "https://localhost:8080/"
        },
        "id": "vDyClzWVgWnG",
        "outputId": "de200493-79ce-47c8-a8ca-7e4ef9b55eae"
      },
      "execution_count": null,
      "outputs": [
        {
          "output_type": "stream",
          "name": "stdout",
          "text": [
            "Even\n"
          ]
        }
      ]
    },
    {
      "cell_type": "markdown",
      "source": [
        "### Use Case of Lambda Functions\n",
        "lambda functions are most commonly used with higher order functions because HOFs often need a small, throwaway function as an argument\n",
        "\n",
        "### Higher Order Functions\n",
        "A higher order function is a function that either takes one or more functions as arguments, or returns a new function as its result — or does both."
      ],
      "metadata": {
        "id": "wfr-iKbBpHkI"
      }
    },
    {
      "cell_type": "code",
      "source": [
        "#normal function\n",
        "\n",
        "#Find the sum of all even in list\n",
        "#Find the sum of all odd number in list\n",
        "# Find the sum of all numbers that are divisible by three\n",
        "\n",
        "l=[11,14,21,23,56,78,45,29,28,27,15,9]\n",
        "\n",
        "\n",
        "def return_sum(l):\n",
        "  even_sum=0\n",
        "  odd_sum=0\n",
        "  div3_sum=0\n",
        "\n",
        "  for i in l:\n",
        "    if i%2==0:\n",
        "      even_sum=even_sum+i\n",
        "    if i%2==1:\n",
        "      odd_sum=odd_sum+i\n",
        "    if i%3==0:\n",
        "      div3_sum=div3_sum+i\n",
        "  return even_sum,odd_sum,div3_sum\n",
        "\n",
        "return_sum(l)"
      ],
      "metadata": {
        "colab": {
          "base_uri": "https://localhost:8080/"
        },
        "id": "hBqd_qG7hP5_",
        "outputId": "2dac5e8e-67f8-4dbb-f94f-89a224de5e86"
      },
      "execution_count": null,
      "outputs": [
        {
          "output_type": "execute_result",
          "data": {
            "text/plain": [
              "(176, 180, 195)"
            ]
          },
          "metadata": {},
          "execution_count": 25
        }
      ]
    },
    {
      "cell_type": "code",
      "source": [
        "#Higher Order Function ------> Perform addition on the condition\n",
        "l=[11,14,21,23,56,78,45,29,28,27,15,9]\n",
        "\n",
        "def return_sum(func,l):\n",
        "  result=0\n",
        "\n",
        "  for i in l:\n",
        "    if func(i):\n",
        "      result=result+i\n",
        "  return result\n",
        "\n",
        "x= lambda x: x%2==0\n",
        "y= lambda x: x%2==1\n",
        "z= lambda x: x%3==0\n",
        "\n",
        "print(return_sum(x,l))\n",
        "print(return_sum(y,l))\n",
        "print(return_sum(z,l))"
      ],
      "metadata": {
        "colab": {
          "base_uri": "https://localhost:8080/"
        },
        "id": "_zbBHtsLlzfN",
        "outputId": "4f48a2f5-a1f7-41aa-9d53-aaf4a90dbf57"
      },
      "execution_count": null,
      "outputs": [
        {
          "output_type": "stream",
          "name": "stdout",
          "text": [
            "176\n",
            "180\n",
            "195\n"
          ]
        }
      ]
    },
    {
      "cell_type": "markdown",
      "source": [
        "Higher Order Functions Of Python\n",
        "\n",
        "\n",
        "*   Map\n",
        "*   Filter\n",
        "*   Reduce\n",
        "\n"
      ],
      "metadata": {
        "id": "qk6KsMXm2yW8"
      }
    },
    {
      "cell_type": "markdown",
      "source": [
        "#### Map:\n",
        "applies a given function to every element on given iterable (like a list, tuple, etc.) and returns a map object (which can be converted to list, set, etc.).\n"
      ],
      "metadata": {
        "id": "gOnvnI2r41g0"
      }
    },
    {
      "cell_type": "code",
      "source": [
        "#Syntax\n",
        "\n",
        "'''map(function, iterable)'''"
      ],
      "metadata": {
        "colab": {
          "base_uri": "https://localhost:8080/",
          "height": 36
        },
        "id": "F9_NnXmfoX1-",
        "outputId": "2fd8ce9e-211b-4f08-b7a7-f56d68db825f"
      },
      "execution_count": null,
      "outputs": [
        {
          "output_type": "execute_result",
          "data": {
            "text/plain": [
              "'map(function, iterable)'"
            ],
            "application/vnd.google.colaboratory.intrinsic+json": {
              "type": "string"
            }
          },
          "metadata": {},
          "execution_count": 31
        }
      ]
    },
    {
      "cell_type": "code",
      "source": [
        "#map Example ----> Return double of every item in a list\n",
        "l=[1,2,3,4,5,6,7]\n",
        "\n",
        "print(map(lambda x:x*2,l))\n",
        "# Can't see the map function output directly, so yo have to convert it into list\n",
        "\n",
        "list(map(lambda x:x*2,l))"
      ],
      "metadata": {
        "colab": {
          "base_uri": "https://localhost:8080/"
        },
        "id": "Uj9vXtFn3T7z",
        "outputId": "2ffb5d9c-bb32-470b-a51e-a5118732d9ff"
      },
      "execution_count": null,
      "outputs": [
        {
          "output_type": "stream",
          "name": "stdout",
          "text": [
            "<map object at 0x79d156fef130>\n"
          ]
        },
        {
          "output_type": "execute_result",
          "data": {
            "text/plain": [
              "[2, 4, 6, 8, 10, 12, 14]"
            ]
          },
          "metadata": {},
          "execution_count": 32
        }
      ]
    },
    {
      "cell_type": "code",
      "source": [
        "# Iterating the name through map function\n",
        "students=[\n",
        "    {\n",
        "        'name':'Abdul Rehman',\n",
        "        'score':90\n",
        "    },\n",
        "    {\n",
        "        'name':'Abdullah Zeeshan',\n",
        "        'score':80\n",
        "    },\n",
        "    {\n",
        "        'name':'Ameen',\n",
        "        'score':70\n",
        "    }\n",
        "\n",
        "]\n",
        "\n",
        "list(map(lambda x:x['name'],students))"
      ],
      "metadata": {
        "colab": {
          "base_uri": "https://localhost:8080/"
        },
        "id": "rLkfc7ag67lA",
        "outputId": "8ae66de6-d7cc-43d4-ecb4-a2e9b28ee717"
      },
      "execution_count": null,
      "outputs": [
        {
          "output_type": "execute_result",
          "data": {
            "text/plain": [
              "['Abdul Rehman', 'Abdullah Zeeshan', 'Ameen']"
            ]
          },
          "metadata": {},
          "execution_count": 39
        }
      ]
    },
    {
      "cell_type": "markdown",
      "source": [
        "####Filter:\n",
        "\n",
        "used to filter elements from an iterable (like list, tuple, set) based on a condition.\n",
        "\n",
        "It only keeps the elements for which the given function returns True."
      ],
      "metadata": {
        "id": "xi_2Xnng8Mfz"
      }
    },
    {
      "cell_type": "code",
      "source": [
        "# Filter Example ----> Return the elements if they are greater than four\n",
        "l=[1,2,3,4,5,6,7,8,9,10]\n",
        "\n",
        "list(filter(lambda x:x>4,l))"
      ],
      "metadata": {
        "colab": {
          "base_uri": "https://localhost:8080/"
        },
        "id": "9j4loAUv7SzL",
        "outputId": "512e1087-79c0-4fe9-9f32-d6c29ac10ada"
      },
      "execution_count": null,
      "outputs": [
        {
          "output_type": "execute_result",
          "data": {
            "text/plain": [
              "[5, 6, 7, 8, 9, 10]"
            ]
          },
          "metadata": {},
          "execution_count": 41
        }
      ]
    },
    {
      "cell_type": "code",
      "source": [
        "# Return the element from list that have \"e\" in their name using filter function\n",
        "\n",
        "name=['ali','ameen','akib','zeeshan','ahmed','saleem']\n",
        "\n",
        "list(filter(lambda i:'e' in i, name))"
      ],
      "metadata": {
        "colab": {
          "base_uri": "https://localhost:8080/"
        },
        "id": "3MvXIEud7dAt",
        "outputId": "2f549325-136c-4b44-ae9d-c019b8f5e306"
      },
      "execution_count": null,
      "outputs": [
        {
          "output_type": "execute_result",
          "data": {
            "text/plain": [
              "['ameen', 'zeeshan', 'ahmed', 'saleem']"
            ]
          },
          "metadata": {},
          "execution_count": 11
        }
      ]
    },
    {
      "cell_type": "markdown",
      "source": [
        "#### Reduce:\n",
        "\n",
        "The reduce() function (from the functools module) applies a function cumulatively to the items of an iterable, from left to right, so as to reduce the iterable to a single value.\n",
        "\n",
        "#####Trace:\n",
        "\n",
        "Sum of [1, 2, 3, 4]\n",
        "\n",
        "start: first two items taken as initial pair: (1, 2)\n",
        "call -> 1 + 2 = 3 (accumulator = 3)\n",
        "\n",
        "next item 3: call -> 3 + 3 = 6 (accumulator = 6)\n",
        "\n",
        "next item 4: call -> 6 + 4 = 10 (accumulator = 10)\n",
        "\n",
        "Final result = 10"
      ],
      "metadata": {
        "id": "jF4WDsrY-fol"
      }
    },
    {
      "cell_type": "code",
      "source": [
        "#Reduce Example ----> Add cumulatively\n",
        "\n",
        "from functools import reduce\n",
        "\n",
        "l=[1,2,3,4,5,6,7,8,9,10]\n",
        "\n",
        "reduce(lambda x,y:x+y,l )"
      ],
      "metadata": {
        "colab": {
          "base_uri": "https://localhost:8080/"
        },
        "id": "VzEVwrh_-Jt5",
        "outputId": "5627852b-df3f-4415-8cdf-4a687d756542"
      },
      "execution_count": null,
      "outputs": [
        {
          "output_type": "execute_result",
          "data": {
            "text/plain": [
              "55"
            ]
          },
          "metadata": {},
          "execution_count": 13
        }
      ]
    },
    {
      "cell_type": "code",
      "source": [
        "# Find greatest number in list by reduce function\n",
        "l=[1,2,3,4,5,6,7,8,9,10]\n",
        "\n",
        "reduce(lambda x,y: x if x>y else y ,l)"
      ],
      "metadata": {
        "colab": {
          "base_uri": "https://localhost:8080/"
        },
        "id": "9Vb4GrR7DsiX",
        "outputId": "4a6d6be6-f6b4-4b60-8841-95f061ce8cf0"
      },
      "execution_count": null,
      "outputs": [
        {
          "output_type": "execute_result",
          "data": {
            "text/plain": [
              "10"
            ]
          },
          "metadata": {},
          "execution_count": 47
        }
      ]
    },
    {
      "cell_type": "code",
      "source": [
        "# Find smallest number in list by reduce function\n",
        "l=[1,2,3,4,5,6,7,8,9,10]\n",
        "\n",
        "reduce(lambda x,y: x if x<y else y ,l)"
      ],
      "metadata": {
        "colab": {
          "base_uri": "https://localhost:8080/"
        },
        "id": "Bvk-bZ1lEasW",
        "outputId": "babd843e-0557-4e4c-9eea-1b34fc44b648"
      },
      "execution_count": null,
      "outputs": [
        {
          "output_type": "execute_result",
          "data": {
            "text/plain": [
              "1"
            ]
          },
          "metadata": {},
          "execution_count": 49
        }
      ]
    },
    {
      "cell_type": "code",
      "source": [
        "# Multiply commulatively\n",
        "l=[2,3,4,5,6,7,8,9,10]\n",
        "\n",
        "reduce(lambda x,y: x*y,l)"
      ],
      "metadata": {
        "colab": {
          "base_uri": "https://localhost:8080/"
        },
        "id": "0ONQHEL6E8--",
        "outputId": "986fa163-8910-4c23-94cb-63b3574dead3"
      },
      "execution_count": null,
      "outputs": [
        {
          "output_type": "execute_result",
          "data": {
            "text/plain": [
              "3628800"
            ]
          },
          "metadata": {},
          "execution_count": 54
        }
      ]
    },
    {
      "cell_type": "code",
      "source": [],
      "metadata": {
        "id": "sMNZ2QSAFPd4"
      },
      "execution_count": null,
      "outputs": []
    }
  ],
  "metadata": {
    "colab": {
      "provenance": []
    },
    "kernelspec": {
      "display_name": "Python 3",
      "name": "python3"
    },
    "language_info": {
      "name": "python"
    }
  },
  "nbformat": 4,
  "nbformat_minor": 0
}