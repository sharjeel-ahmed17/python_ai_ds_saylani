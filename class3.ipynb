{
  "nbformat": 4,
  "nbformat_minor": 0,
  "metadata": {
    "colab": {
      "provenance": []
    },
    "kernelspec": {
      "name": "python3",
      "display_name": "Python 3"
    },
    "language_info": {
      "name": "python"
    }
  },
  "cells": [
    {
      "cell_type": "code",
      "source": [
        "# Identitiy operators -----> used to compare the objects, not if they are equal, but if they are actually the same object, with the same memory location. Output (True or False)\n",
        "\n",
        "a=3\n",
        "b=3\n",
        "\n",
        "#is operator\n",
        "print(a is b)\n",
        "\n",
        "#is not operator\n",
        "print(a is not b)\n",
        "\n",
        "\n",
        "x=\"Hello\"\n",
        "y=\"World\"\n",
        "\n",
        "print(x is y)\n",
        "print(x is not y)\n",
        "\n",
        "x=\"Hello-world\"\n",
        "y=\"Hello-world\"\n",
        "print(x is y)\n",
        "print(x is not y)\n",
        "\n",
        "m=[1,2,3,4]\n",
        "n=[1,2,3,4]\n",
        "print(m is n)\n",
        "print(m is not n)"
      ],
      "metadata": {
        "colab": {
          "base_uri": "https://localhost:8080/",
          "height": 0
        },
        "id": "oq7_MrKqYIp1",
        "outputId": "d7e167f7-6c8e-4eaf-b128-8201132f03bf"
      },
      "execution_count": 1,
      "outputs": [
        {
          "output_type": "stream",
          "name": "stdout",
          "text": [
            "True\n",
            "False\n",
            "False\n",
            "True\n",
            "False\n",
            "True\n",
            "False\n",
            "True\n"
          ]
        }
      ]
    },
    {
      "cell_type": "code",
      "source": [
        "# Member ship Operators ----> shows the presence of a value in a sequence. Output (True or False)\n",
        "\n",
        "x=\"Islamabad\"\n",
        "\n",
        "# in operator\n",
        "print(\"I\" in x)\n",
        "\n",
        "#not-in operator\n",
        "print(\"s\" not in x)\n",
        "\n",
        "x=[1,2,3,4,5]\n",
        "print(3 in x)\n",
        "print(6 not in x)\n",
        "\n"
      ],
      "metadata": {
        "colab": {
          "base_uri": "https://localhost:8080/",
          "height": 0
        },
        "id": "qb_aZu89YIlG",
        "outputId": "dd90fca8-f376-4d8c-cf3f-3c77b53c0c6b"
      },
      "execution_count": 2,
      "outputs": [
        {
          "output_type": "stream",
          "name": "stdout",
          "text": [
            "True\n",
            "False\n",
            "True\n",
            "True\n"
          ]
        }
      ]
    },
    {
      "cell_type": "code",
      "source": [
        "# Bitwise Operators -----> used to compare (binary) numbers:\n",
        "\n",
        "# & operator (and)\n",
        "print(6 & 3)\n",
        "\n",
        "\n",
        "\"\"\"\n",
        "The & operator compares each bit and set it to 1 if both are 1, otherwise it is set to 0:\n",
        "\n",
        "6 = 0000000000000110\n",
        "3 = 0000000000000011\n",
        "--------------------\n",
        "2 = 0000000000000010\n",
        "====================\n",
        "\n",
        "\"\"\"\n"
      ],
      "metadata": {
        "colab": {
          "base_uri": "https://localhost:8080/",
          "height": 73
        },
        "id": "_VT_CalxYIgP",
        "outputId": "6035d1b6-2f52-4e67-f7fc-473a4bcd3557"
      },
      "execution_count": 3,
      "outputs": [
        {
          "output_type": "stream",
          "name": "stdout",
          "text": [
            "2\n"
          ]
        },
        {
          "output_type": "execute_result",
          "data": {
            "text/plain": [
              "'\\nThe & operator compares each bit and set it to 1 if both are 1, otherwise it is set to 0:\\n\\n6 = 0000000000000110\\n3 = 0000000000000011\\n--------------------\\n2 = 0000000000000010\\n====================\\n\\n'"
            ],
            "application/vnd.google.colaboratory.intrinsic+json": {
              "type": "string"
            }
          },
          "metadata": {},
          "execution_count": 3
        }
      ]
    },
    {
      "cell_type": "code",
      "source": [
        "# | operator  (or)\n",
        "print(6 | 3)\n",
        "\n",
        "\n",
        "\n",
        "\"\"\"\n",
        "The | operator compares each bit and set it to 1 if one or both is 1, otherwise it is set to 0:\n",
        "\n",
        "6 = 0000000000000110\n",
        "3 = 0000000000000011\n",
        "--------------------\n",
        "7 = 0000000000000111\n",
        "====================\n",
        "\n",
        "\"\"\""
      ],
      "metadata": {
        "colab": {
          "base_uri": "https://localhost:8080/",
          "height": 73
        },
        "id": "YXXrzCyaYIbJ",
        "outputId": "a3bf5a4e-2fac-4593-cd86-8f7e48269e2c"
      },
      "execution_count": 4,
      "outputs": [
        {
          "output_type": "stream",
          "name": "stdout",
          "text": [
            "7\n"
          ]
        },
        {
          "output_type": "execute_result",
          "data": {
            "text/plain": [
              "'\\nThe | operator compares each bit and set it to 1 if one or both is 1, otherwise it is set to 0:\\n\\n6 = 0000000000000110\\n3 = 0000000000000011\\n--------------------\\n7 = 0000000000000111\\n====================\\n\\n'"
            ],
            "application/vnd.google.colaboratory.intrinsic+json": {
              "type": "string"
            }
          },
          "metadata": {},
          "execution_count": 4
        }
      ]
    },
    {
      "cell_type": "code",
      "source": [
        "# ~ operator (Not)\n",
        "print(~3)\n",
        "\n",
        "\"\"\"\n",
        "\n",
        "The ~ operator inverts each bit (0 becomes 1 and 1 becomes 0).\n",
        "\n",
        "Inverted 3 becomes -4:\n",
        " 3 = 0000000000000011\n",
        "-4 = 1111111111111100\n",
        "\n",
        "Actual_binary: \"0000 0000 0000 0011\"\n",
        "Inverted_binary: \"1111 1111 1111 1100\"\n",
        "bit_length: 16\n",
        "conversion_type: \"Two's complement to decimal\"\n",
        "\n",
        "steps:\n",
        "  - step: 1\n",
        "    title: \"Check sign bit\"\n",
        "    explanation:\n",
        "      - \"The most significant bit (MSB) is 1.\"\n",
        "      - \"This indicates the number is negative.\"\n",
        "\n",
        "  - step: 2\n",
        "    title: \"Find magnitude\"\n",
        "    process:\n",
        "      - \"Invert all bits:\"\n",
        "      - \"1111 1111 1111 1100 → 0000 0000 0000 0011\"\n",
        "      - \"Add 1 to the inverted bits:\"\n",
        "\n",
        "      - 0000 0000 0000 0011\n",
        "       +0000 0000 0000 0001\n",
        "       -----------------------\n",
        "         0000 0000 0000 0100\n",
        "       -----------------------\n",
        "\n",
        "      - \"The magnitude is 4.\"\n",
        "\n",
        "  - step: 3\n",
        "    title: \"Apply sign\"\n",
        "    explanation:\n",
        "      - \"Since the sign bit was 1, the number is negative.\"\n",
        "      - \"Final decimal value = -4\"\n",
        "\n",
        "result:\n",
        "  decimal_value: -4\n",
        "  verification:\n",
        "    - \"Two's complement rule: For a negative number, invert bits and add 1 to get magnitude.\"\n",
        "    - \"Attach a negative sign to the magnitude.\"\n",
        "\n",
        "\"\"\""
      ],
      "metadata": {
        "colab": {
          "base_uri": "https://localhost:8080/",
          "height": 147
        },
        "id": "QQZl34tCYIUk",
        "outputId": "f8a9bf83-79fc-4e36-98da-712ce21c380f"
      },
      "execution_count": 5,
      "outputs": [
        {
          "output_type": "stream",
          "name": "stdout",
          "text": [
            "-4\n"
          ]
        },
        {
          "output_type": "execute_result",
          "data": {
            "text/plain": [
              "'\\n\\nThe ~ operator inverts each bit (0 becomes 1 and 1 becomes 0).\\n\\nInverted 3 becomes -4:\\n 3 = 0000000000000011\\n-4 = 1111111111111100\\n\\nActual_binary: \"0000 0000 0000 0011\"\\nInverted_binary: \"1111 1111 1111 1100\"\\nbit_length: 16\\nconversion_type: \"Two\\'s complement to decimal\"\\n\\nsteps:\\n  - step: 1\\n    title: \"Check sign bit\"\\n    explanation:\\n      - \"The most significant bit (MSB) is 1.\"\\n      - \"This indicates the number is negative.\"\\n\\n  - step: 2\\n    title: \"Find magnitude\"\\n    process:\\n      - \"Invert all bits:\"\\n      - \"1111 1111 1111 1100 → 0000 0000 0000 0011\"\\n      - \"Add 1 to the inverted bits:\"\\n\\n      - 0000 0000 0000 0011\\n       +0000 0000 0000 0001\\n       -----------------------\\n         0000 0000 0000 0100\\n       -----------------------\\n\\n      - \"The magnitude is 4.\"\\n\\n  - step: 3\\n    title: \"Apply sign\"\\n    explanation:\\n      - \"Since the sign bit was 1, the number is negative.\"\\n      - \"Final decimal value = -4\"\\n\\nresult:\\n  decimal_value: -4\\n  verification:\\n    - \"Two\\'s complement rule: For a negative number, invert bits and add 1 to get magnitude.\"\\n    - \"Attach a negative sign to the magnitude.\"\\n\\n'"
            ],
            "application/vnd.google.colaboratory.intrinsic+json": {
              "type": "string"
            }
          },
          "metadata": {},
          "execution_count": 5
        }
      ]
    },
    {
      "cell_type": "markdown",
      "source": [
        "# IF-ELSE Statement\n",
        "Logical Conditions of any programming language."
      ],
      "metadata": {
        "id": "6tkTzK--Eg7B"
      }
    },
    {
      "cell_type": "code",
      "execution_count": null,
      "metadata": {
        "colab": {
          "base_uri": "https://localhost:8080/"
        },
        "id": "Rz5aBXjJCWq_",
        "outputId": "b118b3b0-a188-4806-a390-e49da80052a3"
      },
      "outputs": [
        {
          "output_type": "stream",
          "name": "stdout",
          "text": [
            "a is greater than b\n"
          ]
        }
      ],
      "source": [
        "# if and else\n",
        "a = 330\n",
        "b = 200\n",
        "if b > a:\n",
        "  print(\"b is greater than a\")\n",
        "\n",
        "else:\n",
        "  print(\"a is greater than b\")"
      ]
    },
    {
      "cell_type": "code",
      "source": [
        "#Elif\n",
        "a = 33\n",
        "b = 33\n",
        "if b > a:\n",
        "  print(\"b is greater than a\")\n",
        "elif a == b:\n",
        "  print(\"a and b are equal\")\n",
        "else:\n",
        "  print(\"a is greater than b\")"
      ],
      "metadata": {
        "colab": {
          "base_uri": "https://localhost:8080/"
        },
        "id": "3qpPsgV1C4rY",
        "outputId": "f77f367e-b88b-4c8a-e12b-be16df5ef28f"
      },
      "execution_count": null,
      "outputs": [
        {
          "output_type": "stream",
          "name": "stdout",
          "text": [
            "a and b are equal\n"
          ]
        }
      ]
    },
    {
      "cell_type": "code",
      "source": [
        "# if-else with And operator\n",
        "a = 200\n",
        "b = 33\n",
        "c = 500\n",
        "if a > b and c > a:\n",
        "  print(\"Both conditions are True\")"
      ],
      "metadata": {
        "colab": {
          "base_uri": "https://localhost:8080/"
        },
        "id": "VYRQpWQ2C4nj",
        "outputId": "72ebeca1-c6d4-4e10-85fc-b8253c6edd3b"
      },
      "execution_count": null,
      "outputs": [
        {
          "output_type": "stream",
          "name": "stdout",
          "text": [
            "Both conditions are True\n"
          ]
        }
      ]
    },
    {
      "cell_type": "code",
      "source": [
        "# if-else with Or operator\n",
        "a = 200\n",
        "b = 33\n",
        "c = 500\n",
        "if a > b or a > c:\n",
        "  print(\"At least one of the conditions is True\")"
      ],
      "metadata": {
        "colab": {
          "base_uri": "https://localhost:8080/"
        },
        "id": "HDMCYccoC4jh",
        "outputId": "9f788512-16f9-4b37-cc51-6a720c8daaf4"
      },
      "execution_count": null,
      "outputs": [
        {
          "output_type": "stream",
          "name": "stdout",
          "text": [
            "At least one of the conditions is True\n"
          ]
        }
      ]
    },
    {
      "cell_type": "code",
      "source": [
        "# Nested If-else\n",
        "x = 8\n",
        "\n",
        "if x > 10:\n",
        "  print(\"Above ten,\")\n",
        "  if x > 20:\n",
        "    print(\"and also above 20!\")\n",
        "  else:\n",
        "    print(\"but not above 20.\")\n",
        "else:\n",
        "  print(\"Less than ten\")"
      ],
      "metadata": {
        "colab": {
          "base_uri": "https://localhost:8080/"
        },
        "id": "7cYcGLDqC4fm",
        "outputId": "a34bac0b-1573-43fc-e1d3-a742b893cc8f"
      },
      "execution_count": null,
      "outputs": [
        {
          "output_type": "stream",
          "name": "stdout",
          "text": [
            "Less than ten\n"
          ]
        }
      ]
    },
    {
      "cell_type": "code",
      "source": [
        "# Program to make marksheet\n",
        "\n",
        "name=input(\"Enter your name:  \")\n",
        "sub1=float(input(\"Enter chemistry marks: \"))\n",
        "sub2=float(input(\"Enter physics marks: \"))\n",
        "sub3=float(input(\"Enter math marks: \"))\n",
        "sub4=float(input(\"Enter English marks: \"))\n",
        "sub5=float(input(\"Enter Urdu marks: \"))\n",
        "\n",
        "obtained_marks=sub1+sub2+sub3+sub4+sub5\n",
        "total_marks=500\n",
        "percentage=(obtained_marks*100)/total_marks\n",
        "\n",
        "grade=None\n",
        "\n",
        "if percentage>=90 and percentage<=100:\n",
        "    grade='A+'\n",
        "elif percentage>=80 and percentage<90:\n",
        "    grade='A'\n",
        "elif percentage>=70 and percentage<80:\n",
        "    grade='B'\n",
        "elif percentage>=60 and percentage<70:\n",
        "    grade='C'\n",
        "elif percentage>=50 and percentage<60:\n",
        "    grade='D'\n",
        "else:\n",
        "    grade='F'\n",
        "\n",
        "print(f\"\"\"               CITY PUBLIC SCHOOL\n",
        "\n",
        "\n",
        "     Your name is: {name}\n",
        "     Your Percentage is: {percentage}\n",
        "     Your grade is :{grade}\n",
        "     \"\"\"\n",
        "\n",
        "\n",
        "     )"
      ],
      "metadata": {
        "colab": {
          "base_uri": "https://localhost:8080/"
        },
        "id": "7sjOb8zLC4bs",
        "outputId": "3473e2cb-2792-412f-beb4-31b37eeb50c9"
      },
      "execution_count": null,
      "outputs": [
        {
          "output_type": "stream",
          "name": "stdout",
          "text": [
            "Enter your name:  Abdul Rehman\n",
            "Enter chemistry marks: 78\n",
            "Enter physics marks: 56\n",
            "Enter math marks: 45\n",
            "Enter English marks: 89\n",
            "Enter Urdu marks: 57\n",
            "               CITY PUBLIC SCHOOL\n",
            "\n",
            "\n",
            "     Your name is: Abdul Rehman\n",
            "     Your Percentage is: 65.0\n",
            "     Your grade is :C\n",
            "     \n"
          ]
        }
      ]
    },
    {
      "cell_type": "code",
      "source": [
        "# program for user login\n",
        "\n",
        "user_name=\"Abdul Rehman\"\n",
        "user_password=1234\n",
        "\n",
        "name=input(\"Enter your name: \")\n",
        "\n",
        "\n",
        "if name==user_name:\n",
        "    password=int(input(\"Enter your password\"))\n",
        "    if password==user_password:\n",
        "        print(\"LOGIN APPROVED \")\n",
        "    else:\n",
        "        print(\"your given password is invalid\")\n",
        "else:\n",
        "    print(\"your given name is invalid\")"
      ],
      "metadata": {
        "colab": {
          "base_uri": "https://localhost:8080/"
        },
        "id": "PmOcdyHbC4Xy",
        "outputId": "eae1a1bb-0d4a-47aa-d002-7cdf58ca4c12"
      },
      "execution_count": null,
      "outputs": [
        {
          "output_type": "stream",
          "name": "stdout",
          "text": [
            "Enter your name: Abdul Rehman\n",
            "Enter your password1234\n",
            "LOGIN APPROVED \n"
          ]
        }
      ]
    },
    {
      "cell_type": "code",
      "source": [
        "a=10\n",
        "b=20\n",
        "c=30\n",
        "\n",
        "if a>b:\n",
        "  if a>c:\n",
        "    print(f\"{a} is greater\")\n",
        "  else:\n",
        "    print(f\"{c} is greater\")\n",
        "else:\n",
        "  print(f\"{c} is greater\")"
      ],
      "metadata": {
        "id": "2p5kKXYGkj6M"
      },
      "execution_count": null,
      "outputs": []
    },
    {
      "cell_type": "code",
      "source": [],
      "metadata": {
        "id": "gNu9fTNn7Pb_"
      },
      "execution_count": null,
      "outputs": []
    }
  ]
}